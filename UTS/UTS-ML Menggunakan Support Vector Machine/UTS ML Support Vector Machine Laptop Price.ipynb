{
  "nbformat": 4,
  "nbformat_minor": 0,
  "metadata": {
    "colab": {
      "provenance": [],
      "gpuType": "T4",
      "authorship_tag": "ABX9TyOhE2yDF3XDhUbFZMF826z7",
      "include_colab_link": true
    },
    "kernelspec": {
      "name": "python3",
      "display_name": "Python 3"
    },
    "language_info": {
      "name": "python"
    },
    "accelerator": "GPU"
  },
  "cells": [
    {
      "cell_type": "markdown",
      "metadata": {
        "id": "view-in-github",
        "colab_type": "text"
      },
      "source": [
        "<a href=\"https://colab.research.google.com/github/Fazril1/Machine-Learning/blob/main/UTS/UTS-ML%20Menggunakan%20Support%20Vector%20Machine/UTS%20ML%20Support%20Vector%20Machine%20Laptop%20Price.ipynb\" target=\"_parent\"><img src=\"https://colab.research.google.com/assets/colab-badge.svg\" alt=\"Open In Colab\"/></a>"
      ]
    },
    {
      "cell_type": "markdown",
      "source": [
        "Ibnu Fazril 1103201241 Support Vector Machine [Laptop Price](https://www.kaggle.com/datasets/muhammetvarl/laptop-price)"
      ],
      "metadata": {
        "id": "D3pcU0f6JQ0T"
      }
    },
    {
      "cell_type": "markdown",
      "source": [
        "Prompt chatGPT:\n",
        "Cara membaca dataset di google drive\n",
        "\n",
        "Fungsi from google.colab import drive:\n",
        "Untuk membaca dataset dari penyimpanan google drive\n",
        "\n",
        "Fungsi drive.mount('/content/drive'):\n",
        "Untuk mengakses lokasi drive mana yang akan diakses\n",
        "\n",
        "Fungsi import pandas as pd:\n",
        "Agar dataset berubah menjadi dataframe"
      ],
      "metadata": {
        "id": "pB18Uh-ELTkx"
      }
    },
    {
      "cell_type": "code",
      "execution_count": 233,
      "metadata": {
        "colab": {
          "base_uri": "https://localhost:8080/"
        },
        "id": "8j1bh9Ky6-BL",
        "outputId": "f904b81c-e5eb-4e7c-df27-5be17b1218e0"
      },
      "outputs": [
        {
          "output_type": "stream",
          "name": "stdout",
          "text": [
            "Drive already mounted at /content/drive; to attempt to forcibly remount, call drive.mount(\"/content/drive\", force_remount=True).\n"
          ]
        }
      ],
      "source": [
        "from google.colab import drive # Panggil modul drive dari daftar pustaka google collab untuk mengakses google drive\n",
        "drive.mount('/content/drive') # Lokasi Direktori yang akan diakses\n",
        "import pandas as pd # Panggil modul pandas untuk membaca dataframe dan menganalisis data\n",
        "import matplotlib.pyplot as plt # Panggil modul matplotlib.pyplot untuk memvisualisasikan sebaran data ke dalam grafik\n",
        "import numpy as np # Panggil modul numpy untuk penjumlahan aritmatika\n",
        "import seaborn as sns # Panggil modul seaborn untuk melihat hubungan antara variabel dalam data\n",
        "from sklearn.preprocessing import LabelEncoder # Panggil modul label encoder dari daftar pustaka sklearn.preprocessing untuk menggunakan fitur preprocessing data ke bentuk yang bisa diolah oleh python\n",
        "from sklearn.model_selection import train_test_split # Panggil modul train_test_split dari daftar pustaka sklearn.model_selection untuk membagi data menjadi 2 yaitu data pengujian dan data pelatihan\n",
        "from sklearn.svm import SVR # Panggil modul SVR untuk menggunakan metode Support Vector Regression\n",
        "from sklearn.metrics import mean_absolute_error, mean_squared_error, r2_score # Panggil modul mean_absolute_error, mean_squared_error, r2_score dari daftar pustakan sklearn.metrics untuk mengetahui nilai variasi data dalam dataset dan juga kesalahan prediksi yang dilakukan oleh model"
      ]
    },
    {
      "cell_type": "markdown",
      "source": [
        "Catatan/Penjelasan:\n",
        "Output nya akan memberi notif bahwa google colab sudah terhubung dengan google drive\n"
      ],
      "metadata": {
        "id": "P7BJbYxqMJV8"
      }
    },
    {
      "cell_type": "markdown",
      "source": [
        "# Kode Selanjutnya"
      ],
      "metadata": {
        "id": "94vBG3KBOQRV"
      }
    },
    {
      "cell_type": "markdown",
      "source": [
        "Prompt chatGPT:\n",
        "cara membaca dataset di google drive\n",
        "\n",
        "Fungsi file_path = '/content/drive/MyDrive/Dataset/laptop_price.csv':\n",
        "untuk mengakses lokasi dataset disimpan\n",
        "\n",
        "Fungsi df = pd.read_csv(file_path, encoding='ISO-8859-1'):\n",
        "untuk membaca dataset dan mengubah encoder nya agar tidak error pada saat membaca dataset"
      ],
      "metadata": {
        "id": "dxJWSOWMMZpi"
      }
    },
    {
      "cell_type": "code",
      "source": [
        "file_path = '/content/drive/MyDrive/Dataset/laptop_price.csv' # Lokasi file dataset di Google Drive\n",
        "df = pd.read_csv(file_path, encoding='ISO-8859-1') # Membaca dataset CSV ke dalam DataFrame dan merubah format data dengan encoding agar data bisa diuraikan"
      ],
      "metadata": {
        "id": "pWr7iwy89hTn"
      },
      "execution_count": 234,
      "outputs": []
    },
    {
      "cell_type": "markdown",
      "source": [
        "# Kode Selanjutnya"
      ],
      "metadata": {
        "id": "YnhtG9wzOZnj"
      }
    },
    {
      "cell_type": "markdown",
      "source": [
        "Prompt chatGPT:\n",
        "Buatkan kode untuk melihat info dari dataset\n",
        "\n",
        "Fungsi df.info():\n",
        "Untuk melihat info dari dataset yang dipakai"
      ],
      "metadata": {
        "id": "N_x-Zq2HNuzW"
      }
    },
    {
      "cell_type": "code",
      "source": [
        "df.info() # Untuk menampilkan informasi ringkas dalam DataFrame"
      ],
      "metadata": {
        "colab": {
          "base_uri": "https://localhost:8080/"
        },
        "id": "vXwKRlVl-fWb",
        "outputId": "6de57d91-0bb2-4fcd-9943-2bc30288c0b0"
      },
      "execution_count": 235,
      "outputs": [
        {
          "output_type": "stream",
          "name": "stdout",
          "text": [
            "<class 'pandas.core.frame.DataFrame'>\n",
            "RangeIndex: 1303 entries, 0 to 1302\n",
            "Data columns (total 13 columns):\n",
            " #   Column            Non-Null Count  Dtype  \n",
            "---  ------            --------------  -----  \n",
            " 0   laptop_ID         1303 non-null   int64  \n",
            " 1   Company           1303 non-null   object \n",
            " 2   Product           1303 non-null   object \n",
            " 3   TypeName          1303 non-null   object \n",
            " 4   Inches            1303 non-null   float64\n",
            " 5   ScreenResolution  1303 non-null   object \n",
            " 6   Cpu               1303 non-null   object \n",
            " 7   Ram               1303 non-null   object \n",
            " 8   Memory            1303 non-null   object \n",
            " 9   Gpu               1303 non-null   object \n",
            " 10  OpSys             1303 non-null   object \n",
            " 11  Weight            1303 non-null   object \n",
            " 12  Price_euros       1303 non-null   float64\n",
            "dtypes: float64(2), int64(1), object(10)\n",
            "memory usage: 132.5+ KB\n"
          ]
        }
      ]
    },
    {
      "cell_type": "markdown",
      "source": [
        "Catatan/Penjelasan:\n",
        "Output nya akan memberi info dataset tiap fitur berupa ada null atau nilai tidak diisi oleh dataset dan juga type dataset itu apa"
      ],
      "metadata": {
        "id": "oKjkg7gXO3S9"
      }
    },
    {
      "cell_type": "markdown",
      "source": [
        "# Kode Selanjutnya"
      ],
      "metadata": {
        "id": "1rF1CyuPTYc5"
      }
    },
    {
      "cell_type": "markdown",
      "source": [
        "Prompt chatGPT:\n",
        "buatkan kode untuk melihat dataset\n",
        "\n",
        "Fungsi df.head():\n",
        "Untuk melihat 5 baris pertama dari dataset"
      ],
      "metadata": {
        "id": "9YlvvAqHTaXA"
      }
    },
    {
      "cell_type": "code",
      "source": [
        "df.head() # Untuk menampilkan 5 baris pertama dalam dataset"
      ],
      "metadata": {
        "colab": {
          "base_uri": "https://localhost:8080/",
          "height": 206
        },
        "id": "HuYy8XuVTSpO",
        "outputId": "5e32e198-0744-4e66-b03a-cf5e4920de82"
      },
      "execution_count": 236,
      "outputs": [
        {
          "output_type": "execute_result",
          "data": {
            "text/plain": [
              "   laptop_ID Company      Product   TypeName  Inches  \\\n",
              "0          1   Apple  MacBook Pro  Ultrabook    13.3   \n",
              "1          2   Apple  Macbook Air  Ultrabook    13.3   \n",
              "2          3      HP       250 G6   Notebook    15.6   \n",
              "3          4   Apple  MacBook Pro  Ultrabook    15.4   \n",
              "4          5   Apple  MacBook Pro  Ultrabook    13.3   \n",
              "\n",
              "                     ScreenResolution                         Cpu   Ram  \\\n",
              "0  IPS Panel Retina Display 2560x1600        Intel Core i5 2.3GHz   8GB   \n",
              "1                            1440x900        Intel Core i5 1.8GHz   8GB   \n",
              "2                   Full HD 1920x1080  Intel Core i5 7200U 2.5GHz   8GB   \n",
              "3  IPS Panel Retina Display 2880x1800        Intel Core i7 2.7GHz  16GB   \n",
              "4  IPS Panel Retina Display 2560x1600        Intel Core i5 3.1GHz   8GB   \n",
              "\n",
              "                Memory                           Gpu  OpSys  Weight  \\\n",
              "0            128GB SSD  Intel Iris Plus Graphics 640  macOS  1.37kg   \n",
              "1  128GB Flash Storage        Intel HD Graphics 6000  macOS  1.34kg   \n",
              "2            256GB SSD         Intel HD Graphics 620  No OS  1.86kg   \n",
              "3            512GB SSD            AMD Radeon Pro 455  macOS  1.83kg   \n",
              "4            256GB SSD  Intel Iris Plus Graphics 650  macOS  1.37kg   \n",
              "\n",
              "   Price_euros  \n",
              "0      1339.69  \n",
              "1       898.94  \n",
              "2       575.00  \n",
              "3      2537.45  \n",
              "4      1803.60  "
            ],
            "text/html": [
              "\n",
              "  <div id=\"df-a2efdf10-2e55-4be1-bab3-7bb4ef1bb197\" class=\"colab-df-container\">\n",
              "    <div>\n",
              "<style scoped>\n",
              "    .dataframe tbody tr th:only-of-type {\n",
              "        vertical-align: middle;\n",
              "    }\n",
              "\n",
              "    .dataframe tbody tr th {\n",
              "        vertical-align: top;\n",
              "    }\n",
              "\n",
              "    .dataframe thead th {\n",
              "        text-align: right;\n",
              "    }\n",
              "</style>\n",
              "<table border=\"1\" class=\"dataframe\">\n",
              "  <thead>\n",
              "    <tr style=\"text-align: right;\">\n",
              "      <th></th>\n",
              "      <th>laptop_ID</th>\n",
              "      <th>Company</th>\n",
              "      <th>Product</th>\n",
              "      <th>TypeName</th>\n",
              "      <th>Inches</th>\n",
              "      <th>ScreenResolution</th>\n",
              "      <th>Cpu</th>\n",
              "      <th>Ram</th>\n",
              "      <th>Memory</th>\n",
              "      <th>Gpu</th>\n",
              "      <th>OpSys</th>\n",
              "      <th>Weight</th>\n",
              "      <th>Price_euros</th>\n",
              "    </tr>\n",
              "  </thead>\n",
              "  <tbody>\n",
              "    <tr>\n",
              "      <th>0</th>\n",
              "      <td>1</td>\n",
              "      <td>Apple</td>\n",
              "      <td>MacBook Pro</td>\n",
              "      <td>Ultrabook</td>\n",
              "      <td>13.3</td>\n",
              "      <td>IPS Panel Retina Display 2560x1600</td>\n",
              "      <td>Intel Core i5 2.3GHz</td>\n",
              "      <td>8GB</td>\n",
              "      <td>128GB SSD</td>\n",
              "      <td>Intel Iris Plus Graphics 640</td>\n",
              "      <td>macOS</td>\n",
              "      <td>1.37kg</td>\n",
              "      <td>1339.69</td>\n",
              "    </tr>\n",
              "    <tr>\n",
              "      <th>1</th>\n",
              "      <td>2</td>\n",
              "      <td>Apple</td>\n",
              "      <td>Macbook Air</td>\n",
              "      <td>Ultrabook</td>\n",
              "      <td>13.3</td>\n",
              "      <td>1440x900</td>\n",
              "      <td>Intel Core i5 1.8GHz</td>\n",
              "      <td>8GB</td>\n",
              "      <td>128GB Flash Storage</td>\n",
              "      <td>Intel HD Graphics 6000</td>\n",
              "      <td>macOS</td>\n",
              "      <td>1.34kg</td>\n",
              "      <td>898.94</td>\n",
              "    </tr>\n",
              "    <tr>\n",
              "      <th>2</th>\n",
              "      <td>3</td>\n",
              "      <td>HP</td>\n",
              "      <td>250 G6</td>\n",
              "      <td>Notebook</td>\n",
              "      <td>15.6</td>\n",
              "      <td>Full HD 1920x1080</td>\n",
              "      <td>Intel Core i5 7200U 2.5GHz</td>\n",
              "      <td>8GB</td>\n",
              "      <td>256GB SSD</td>\n",
              "      <td>Intel HD Graphics 620</td>\n",
              "      <td>No OS</td>\n",
              "      <td>1.86kg</td>\n",
              "      <td>575.00</td>\n",
              "    </tr>\n",
              "    <tr>\n",
              "      <th>3</th>\n",
              "      <td>4</td>\n",
              "      <td>Apple</td>\n",
              "      <td>MacBook Pro</td>\n",
              "      <td>Ultrabook</td>\n",
              "      <td>15.4</td>\n",
              "      <td>IPS Panel Retina Display 2880x1800</td>\n",
              "      <td>Intel Core i7 2.7GHz</td>\n",
              "      <td>16GB</td>\n",
              "      <td>512GB SSD</td>\n",
              "      <td>AMD Radeon Pro 455</td>\n",
              "      <td>macOS</td>\n",
              "      <td>1.83kg</td>\n",
              "      <td>2537.45</td>\n",
              "    </tr>\n",
              "    <tr>\n",
              "      <th>4</th>\n",
              "      <td>5</td>\n",
              "      <td>Apple</td>\n",
              "      <td>MacBook Pro</td>\n",
              "      <td>Ultrabook</td>\n",
              "      <td>13.3</td>\n",
              "      <td>IPS Panel Retina Display 2560x1600</td>\n",
              "      <td>Intel Core i5 3.1GHz</td>\n",
              "      <td>8GB</td>\n",
              "      <td>256GB SSD</td>\n",
              "      <td>Intel Iris Plus Graphics 650</td>\n",
              "      <td>macOS</td>\n",
              "      <td>1.37kg</td>\n",
              "      <td>1803.60</td>\n",
              "    </tr>\n",
              "  </tbody>\n",
              "</table>\n",
              "</div>\n",
              "    <div class=\"colab-df-buttons\">\n",
              "\n",
              "  <div class=\"colab-df-container\">\n",
              "    <button class=\"colab-df-convert\" onclick=\"convertToInteractive('df-a2efdf10-2e55-4be1-bab3-7bb4ef1bb197')\"\n",
              "            title=\"Convert this dataframe to an interactive table.\"\n",
              "            style=\"display:none;\">\n",
              "\n",
              "  <svg xmlns=\"http://www.w3.org/2000/svg\" height=\"24px\" viewBox=\"0 -960 960 960\">\n",
              "    <path d=\"M120-120v-720h720v720H120Zm60-500h600v-160H180v160Zm220 220h160v-160H400v160Zm0 220h160v-160H400v160ZM180-400h160v-160H180v160Zm440 0h160v-160H620v160ZM180-180h160v-160H180v160Zm440 0h160v-160H620v160Z\"/>\n",
              "  </svg>\n",
              "    </button>\n",
              "\n",
              "  <style>\n",
              "    .colab-df-container {\n",
              "      display:flex;\n",
              "      gap: 12px;\n",
              "    }\n",
              "\n",
              "    .colab-df-convert {\n",
              "      background-color: #E8F0FE;\n",
              "      border: none;\n",
              "      border-radius: 50%;\n",
              "      cursor: pointer;\n",
              "      display: none;\n",
              "      fill: #1967D2;\n",
              "      height: 32px;\n",
              "      padding: 0 0 0 0;\n",
              "      width: 32px;\n",
              "    }\n",
              "\n",
              "    .colab-df-convert:hover {\n",
              "      background-color: #E2EBFA;\n",
              "      box-shadow: 0px 1px 2px rgba(60, 64, 67, 0.3), 0px 1px 3px 1px rgba(60, 64, 67, 0.15);\n",
              "      fill: #174EA6;\n",
              "    }\n",
              "\n",
              "    .colab-df-buttons div {\n",
              "      margin-bottom: 4px;\n",
              "    }\n",
              "\n",
              "    [theme=dark] .colab-df-convert {\n",
              "      background-color: #3B4455;\n",
              "      fill: #D2E3FC;\n",
              "    }\n",
              "\n",
              "    [theme=dark] .colab-df-convert:hover {\n",
              "      background-color: #434B5C;\n",
              "      box-shadow: 0px 1px 3px 1px rgba(0, 0, 0, 0.15);\n",
              "      filter: drop-shadow(0px 1px 2px rgba(0, 0, 0, 0.3));\n",
              "      fill: #FFFFFF;\n",
              "    }\n",
              "  </style>\n",
              "\n",
              "    <script>\n",
              "      const buttonEl =\n",
              "        document.querySelector('#df-a2efdf10-2e55-4be1-bab3-7bb4ef1bb197 button.colab-df-convert');\n",
              "      buttonEl.style.display =\n",
              "        google.colab.kernel.accessAllowed ? 'block' : 'none';\n",
              "\n",
              "      async function convertToInteractive(key) {\n",
              "        const element = document.querySelector('#df-a2efdf10-2e55-4be1-bab3-7bb4ef1bb197');\n",
              "        const dataTable =\n",
              "          await google.colab.kernel.invokeFunction('convertToInteractive',\n",
              "                                                    [key], {});\n",
              "        if (!dataTable) return;\n",
              "\n",
              "        const docLinkHtml = 'Like what you see? Visit the ' +\n",
              "          '<a target=\"_blank\" href=https://colab.research.google.com/notebooks/data_table.ipynb>data table notebook</a>'\n",
              "          + ' to learn more about interactive tables.';\n",
              "        element.innerHTML = '';\n",
              "        dataTable['output_type'] = 'display_data';\n",
              "        await google.colab.output.renderOutput(dataTable, element);\n",
              "        const docLink = document.createElement('div');\n",
              "        docLink.innerHTML = docLinkHtml;\n",
              "        element.appendChild(docLink);\n",
              "      }\n",
              "    </script>\n",
              "  </div>\n",
              "\n",
              "\n",
              "<div id=\"df-abbb1b29-3ac8-4873-b0be-ae9662244f5d\">\n",
              "  <button class=\"colab-df-quickchart\" onclick=\"quickchart('df-abbb1b29-3ac8-4873-b0be-ae9662244f5d')\"\n",
              "            title=\"Suggest charts\"\n",
              "            style=\"display:none;\">\n",
              "\n",
              "<svg xmlns=\"http://www.w3.org/2000/svg\" height=\"24px\"viewBox=\"0 0 24 24\"\n",
              "     width=\"24px\">\n",
              "    <g>\n",
              "        <path d=\"M19 3H5c-1.1 0-2 .9-2 2v14c0 1.1.9 2 2 2h14c1.1 0 2-.9 2-2V5c0-1.1-.9-2-2-2zM9 17H7v-7h2v7zm4 0h-2V7h2v10zm4 0h-2v-4h2v4z\"/>\n",
              "    </g>\n",
              "</svg>\n",
              "  </button>\n",
              "\n",
              "<style>\n",
              "  .colab-df-quickchart {\n",
              "      --bg-color: #E8F0FE;\n",
              "      --fill-color: #1967D2;\n",
              "      --hover-bg-color: #E2EBFA;\n",
              "      --hover-fill-color: #174EA6;\n",
              "      --disabled-fill-color: #AAA;\n",
              "      --disabled-bg-color: #DDD;\n",
              "  }\n",
              "\n",
              "  [theme=dark] .colab-df-quickchart {\n",
              "      --bg-color: #3B4455;\n",
              "      --fill-color: #D2E3FC;\n",
              "      --hover-bg-color: #434B5C;\n",
              "      --hover-fill-color: #FFFFFF;\n",
              "      --disabled-bg-color: #3B4455;\n",
              "      --disabled-fill-color: #666;\n",
              "  }\n",
              "\n",
              "  .colab-df-quickchart {\n",
              "    background-color: var(--bg-color);\n",
              "    border: none;\n",
              "    border-radius: 50%;\n",
              "    cursor: pointer;\n",
              "    display: none;\n",
              "    fill: var(--fill-color);\n",
              "    height: 32px;\n",
              "    padding: 0;\n",
              "    width: 32px;\n",
              "  }\n",
              "\n",
              "  .colab-df-quickchart:hover {\n",
              "    background-color: var(--hover-bg-color);\n",
              "    box-shadow: 0 1px 2px rgba(60, 64, 67, 0.3), 0 1px 3px 1px rgba(60, 64, 67, 0.15);\n",
              "    fill: var(--button-hover-fill-color);\n",
              "  }\n",
              "\n",
              "  .colab-df-quickchart-complete:disabled,\n",
              "  .colab-df-quickchart-complete:disabled:hover {\n",
              "    background-color: var(--disabled-bg-color);\n",
              "    fill: var(--disabled-fill-color);\n",
              "    box-shadow: none;\n",
              "  }\n",
              "\n",
              "  .colab-df-spinner {\n",
              "    border: 2px solid var(--fill-color);\n",
              "    border-color: transparent;\n",
              "    border-bottom-color: var(--fill-color);\n",
              "    animation:\n",
              "      spin 1s steps(1) infinite;\n",
              "  }\n",
              "\n",
              "  @keyframes spin {\n",
              "    0% {\n",
              "      border-color: transparent;\n",
              "      border-bottom-color: var(--fill-color);\n",
              "      border-left-color: var(--fill-color);\n",
              "    }\n",
              "    20% {\n",
              "      border-color: transparent;\n",
              "      border-left-color: var(--fill-color);\n",
              "      border-top-color: var(--fill-color);\n",
              "    }\n",
              "    30% {\n",
              "      border-color: transparent;\n",
              "      border-left-color: var(--fill-color);\n",
              "      border-top-color: var(--fill-color);\n",
              "      border-right-color: var(--fill-color);\n",
              "    }\n",
              "    40% {\n",
              "      border-color: transparent;\n",
              "      border-right-color: var(--fill-color);\n",
              "      border-top-color: var(--fill-color);\n",
              "    }\n",
              "    60% {\n",
              "      border-color: transparent;\n",
              "      border-right-color: var(--fill-color);\n",
              "    }\n",
              "    80% {\n",
              "      border-color: transparent;\n",
              "      border-right-color: var(--fill-color);\n",
              "      border-bottom-color: var(--fill-color);\n",
              "    }\n",
              "    90% {\n",
              "      border-color: transparent;\n",
              "      border-bottom-color: var(--fill-color);\n",
              "    }\n",
              "  }\n",
              "</style>\n",
              "\n",
              "  <script>\n",
              "    async function quickchart(key) {\n",
              "      const quickchartButtonEl =\n",
              "        document.querySelector('#' + key + ' button');\n",
              "      quickchartButtonEl.disabled = true;  // To prevent multiple clicks.\n",
              "      quickchartButtonEl.classList.add('colab-df-spinner');\n",
              "      try {\n",
              "        const charts = await google.colab.kernel.invokeFunction(\n",
              "            'suggestCharts', [key], {});\n",
              "      } catch (error) {\n",
              "        console.error('Error during call to suggestCharts:', error);\n",
              "      }\n",
              "      quickchartButtonEl.classList.remove('colab-df-spinner');\n",
              "      quickchartButtonEl.classList.add('colab-df-quickchart-complete');\n",
              "    }\n",
              "    (() => {\n",
              "      let quickchartButtonEl =\n",
              "        document.querySelector('#df-abbb1b29-3ac8-4873-b0be-ae9662244f5d button');\n",
              "      quickchartButtonEl.style.display =\n",
              "        google.colab.kernel.accessAllowed ? 'block' : 'none';\n",
              "    })();\n",
              "  </script>\n",
              "</div>\n",
              "    </div>\n",
              "  </div>\n"
            ]
          },
          "metadata": {},
          "execution_count": 236
        }
      ]
    },
    {
      "cell_type": "markdown",
      "source": [
        "Catatan/Penjelasan:\n",
        "Output nya akan memberi tampillan 5 baris pertama tentang dataset dimana terdapat beberapa kolom yang menjelaskan tentang fitur-fitur yang ada di dalam dataset tersebut"
      ],
      "metadata": {
        "id": "PwJjO3hkTg98"
      }
    },
    {
      "cell_type": "markdown",
      "source": [
        "# Kode Selanjutnya"
      ],
      "metadata": {
        "id": "pwSmaGN9PFux"
      }
    },
    {
      "cell_type": "markdown",
      "source": [
        "Prompt chatGPT:\n",
        "buatkan kode untuk mengubah string menjadi numerik menggunakan label encoder (agak berbeda prompt dengan kode di bawah tetapi secara konsep masih sama yang membedakan adalah kode dibawah mengubah datasetnya secara langsung tanpa harus mengelompokkan fitur-fitur tersebut ke variabel)\n",
        "\n",
        "Fungsi from sklearn.preprocessing import LabelEncoder:\n",
        "Untuk menggunakan pre=processing dataframe menggunakan label encoder\n",
        "\n",
        "Fungsi label_encoder = LabelEncoder():\n",
        "Untuk menggunakan pengubahan tipe data label encoder\n",
        "\n",
        "Fungsi df['nama_parameter_yang_tidak_numerik'] = label_encoder.fit_transform(df['nama_parameter_yang_tidak_numerik']):\n",
        "Untuk membuat parameter fitur tipe string menjadi numerik agar bisa diolah datasetnya"
      ],
      "metadata": {
        "id": "eKXAfGe7PLDo"
      }
    },
    {
      "cell_type": "code",
      "source": [
        "# Inisialisasi LabelEncoder\n",
        "label_encoder = LabelEncoder() # Panggil fungsi LabelEncoder() dan simpan dalam variabel label_encoder untuk mengubah parameter dalam dataset menjadi bentuk float/int\n",
        "\n",
        "# Preprocessing data\n",
        "df['Company'] = label_encoder.fit_transform(df['Company']) # mengubah paramter string menjadi float\n",
        "df['Product'] = label_encoder.fit_transform(df['Product']) # mengubah paramter string menjadi float\n",
        "df['TypeName'] = label_encoder.fit_transform(df['TypeName']) # mengubah paramter string menjadi float\n",
        "df['ScreenResolution'] = label_encoder.fit_transform(df['ScreenResolution']) # mengubah paramter string menjadi float\n",
        "df['Cpu'] = label_encoder.fit_transform(df['Cpu']) # mengubah paramter string menjadi float\n",
        "df['Ram'] = label_encoder.fit_transform(df['Ram']) # mengubah paramter string menjadi float\n",
        "df['Memory'] = label_encoder.fit_transform(df['Memory']) # mengubah paramter string menjadi float\n",
        "df['Gpu'] = label_encoder.fit_transform(df['Gpu']) # mengubah paramter string menjadi float\n",
        "df['OpSys'] = label_encoder.fit_transform(df['OpSys']) # mengubah paramter string menjadi float\n",
        "df['Weight'] = label_encoder.fit_transform(df['Weight']) # mengubah paramter string menjadi float"
      ],
      "metadata": {
        "id": "mhNPcAgf_Tay"
      },
      "execution_count": 237,
      "outputs": []
    },
    {
      "cell_type": "markdown",
      "source": [
        "# Kode Selanjutnya"
      ],
      "metadata": {
        "id": "C7L6Mgn0QSYj"
      }
    },
    {
      "cell_type": "markdown",
      "source": [
        "Prompt chatGPT:\n",
        "Cara drop kolom\n",
        "\n",
        "Fungsi df = df.drop('kolom_yang_ingin_dihapus', axis=1):\n",
        "Untuk menghapus kolom yang tidak berguna"
      ],
      "metadata": {
        "id": "roPwu5cvQSz4"
      }
    },
    {
      "cell_type": "code",
      "source": [
        "df = df.drop('laptop_ID', axis=1) # Menghapus kolom laptop_ID"
      ],
      "metadata": {
        "id": "hnUK8tFfA85-"
      },
      "execution_count": 238,
      "outputs": []
    },
    {
      "cell_type": "markdown",
      "source": [
        "# Kode Selanjutnya\n"
      ],
      "metadata": {
        "id": "YfHVVtfVQlgL"
      }
    },
    {
      "cell_type": "markdown",
      "source": [
        "Prompt chatGPT:\n",
        "Buatkan kode untuk melihat correlation matrix dengan heatmap\n",
        "\n",
        "Fungsi import matplotlib.pyplot as plt:\n",
        "Untuk membuat plot figur\n",
        "\n",
        "Fungsi import numpy as np (kodenya digabungkan di paling atas sama modul yang lain):\n",
        "Untuk melakukan perhitungann aritmatika\n",
        "\n",
        "Fungsi import seaborn as sns (kodenya digabungkan di paling atas sama modul yang lain):\n",
        "Untuk menggunakan plot heatmap\n",
        "\n",
        "Fungsi plt.figure(figsize=(10, 8)):\n",
        "Untuk membuat plot figure berukuran lebar 10 inci dan tinggi 8 inci\n",
        "\n",
        "Fungsi correlation_matrix = df.corr().round(2):\n",
        "Untuk membuat skor korelasi matriks antar fitur\n",
        "\n",
        "Fungsi sns.heatmap(data=correlation_matrix, annot=True, cmap='coolwarm', linewidths=0.5):\n",
        "Untuk membuat heatmap dengan warna coolwarm\n",
        "\n",
        "Fungsi plt.title(\"Correlation Matrix untuk Fitur Numerik \", size=20):\n",
        "Untuk membuat judul dengan tulisan tersebut dengan ukuran teks 20"
      ],
      "metadata": {
        "id": "Pd0BWIU3Q4II"
      }
    },
    {
      "cell_type": "code",
      "source": [
        "plt.figure(figsize=(10, 8)) # Memplotkan figure dengan ukuran lebar 10 inci dan tinggi 8 inci\n",
        "correlation_matrix = df.corr().round(2) # Evaluasai skor korelasi dengan fungsi corr()\n",
        "sns.heatmap(data=correlation_matrix, annot=True, cmap='coolwarm', linewidths=0.5) # Heatmap yang dikategorikan berdasarkan fitur dari dataset dengan warna heatmap yaitu coolwarm\n",
        "plt.title(\"Correlation Matrix untuk Fitur Numerik \", size=20) # Menulis judul Correlation Matrix untuk Fitur Numerik dengan ukuran teks 20"
      ],
      "metadata": {
        "colab": {
          "base_uri": "https://localhost:8080/",
          "height": 831
        },
        "id": "5eg7loIo-0a1",
        "outputId": "a6071285-3b51-496d-9122-3ce78af49e5b"
      },
      "execution_count": 239,
      "outputs": [
        {
          "output_type": "execute_result",
          "data": {
            "text/plain": [
              "Text(0.5, 1.0, 'Correlation Matrix untuk Fitur Numerik ')"
            ]
          },
          "metadata": {},
          "execution_count": 239
        },
        {
          "output_type": "display_data",
          "data": {
            "text/plain": [
              "<Figure size 1000x800 with 2 Axes>"
            ],
            "image/png": "[encoded data removed]"
          },
          "metadata": {}
        }
      ]
    },
    {
      "cell_type": "markdown",
      "source": [
        "Catatan/Penjelasan:\n",
        "Output nya akan menampilkan plot antara variabel x dan y yang akan menjadi acuan untuk menghapus fitur yang kurang berguna dalam memprediksi target"
      ],
      "metadata": {
        "id": "rJ5mDHN9RrTg"
      }
    },
    {
      "cell_type": "markdown",
      "source": [
        "# Kode Selanjutnya"
      ],
      "metadata": {
        "id": "RiQNSbyKRrYv"
      }
    },
    {
      "cell_type": "markdown",
      "source": [
        "Prompt chatGPT:\n",
        "Cara drop kolom\n",
        "\n",
        "Fungsi df = df.drop('kolom_yang_ingin_dihapus', axis=1):\n",
        "Untuk menghapus kolom yang tidak berguna"
      ],
      "metadata": {
        "id": "mqD_I9XTRv9F"
      }
    },
    {
      "cell_type": "code",
      "source": [
        "df = df.drop('Company', axis=1) # Menghapus kolom Company\n",
        "df = df.drop('Product', axis=1) # Menghapus kolom Product\n",
        "df = df.drop('TypeName', axis=1) # Menghapus kolom TypeName\n",
        "df = df.drop('ScreenResolution', axis=1) # Menghapus kolom ScreenResolution\n",
        "df = df.drop('Ram', axis=1) # Menghapus kolom Ram\n",
        "df = df.drop('Memory', axis=1) # Menghapus kolom Memory\n",
        "df = df.drop('OpSys', axis=1) # Menghapus kolom OpSys"
      ],
      "metadata": {
        "id": "uad78XvICVrj"
      },
      "execution_count": 240,
      "outputs": []
    },
    {
      "cell_type": "markdown",
      "source": [
        "# Kode Selanjutnya"
      ],
      "metadata": {
        "id": "VvMYjmtaR8uW"
      }
    },
    {
      "cell_type": "markdown",
      "source": [
        "Prompt chatGPT:\n",
        "buatkan kode untuk melihat dataset\n",
        "\n",
        "Fungsi df.head():\n",
        "Untuk melihat 5 baris pertama dari dataset"
      ],
      "metadata": {
        "id": "8bImnazuR8zZ"
      }
    },
    {
      "cell_type": "code",
      "source": [
        "df.head() # Untuk menampilkan 5 baris pertama dalam dataset"
      ],
      "metadata": {
        "colab": {
          "base_uri": "https://localhost:8080/",
          "height": 206
        },
        "id": "1PxJ-JG6CXqB",
        "outputId": "5330537c-4b2c-44bd-dec2-6bb21e931c6d"
      },
      "execution_count": 241,
      "outputs": [
        {
          "output_type": "execute_result",
          "data": {
            "text/plain": [
              "   Inches  Cpu  Gpu  Weight  Price_euros\n",
              "0    13.3   65   58      38      1339.69\n",
              "1    13.3   63   51      35       898.94\n",
              "2    15.6   74   53      74       575.00\n",
              "3    15.4   85    9      71      2537.45\n",
              "4    13.3   67   59      38      1803.60"
            ],
            "text/html": [
              "\n",
              "  <div id=\"df-d95dd60d-4259-448d-9428-cc9993fedb2f\" class=\"colab-df-container\">\n",
              "    <div>\n",
              "<style scoped>\n",
              "    .dataframe tbody tr th:only-of-type {\n",
              "        vertical-align: middle;\n",
              "    }\n",
              "\n",
              "    .dataframe tbody tr th {\n",
              "        vertical-align: top;\n",
              "    }\n",
              "\n",
              "    .dataframe thead th {\n",
              "        text-align: right;\n",
              "    }\n",
              "</style>\n",
              "<table border=\"1\" class=\"dataframe\">\n",
              "  <thead>\n",
              "    <tr style=\"text-align: right;\">\n",
              "      <th></th>\n",
              "      <th>Inches</th>\n",
              "      <th>Cpu</th>\n",
              "      <th>Gpu</th>\n",
              "      <th>Weight</th>\n",
              "      <th>Price_euros</th>\n",
              "    </tr>\n",
              "  </thead>\n",
              "  <tbody>\n",
              "    <tr>\n",
              "      <th>0</th>\n",
              "      <td>13.3</td>\n",
              "      <td>65</td>\n",
              "      <td>58</td>\n",
              "      <td>38</td>\n",
              "      <td>1339.69</td>\n",
              "    </tr>\n",
              "    <tr>\n",
              "      <th>1</th>\n",
              "      <td>13.3</td>\n",
              "      <td>63</td>\n",
              "      <td>51</td>\n",
              "      <td>35</td>\n",
              "      <td>898.94</td>\n",
              "    </tr>\n",
              "    <tr>\n",
              "      <th>2</th>\n",
              "      <td>15.6</td>\n",
              "      <td>74</td>\n",
              "      <td>53</td>\n",
              "      <td>74</td>\n",
              "      <td>575.00</td>\n",
              "    </tr>\n",
              "    <tr>\n",
              "      <th>3</th>\n",
              "      <td>15.4</td>\n",
              "      <td>85</td>\n",
              "      <td>9</td>\n",
              "      <td>71</td>\n",
              "      <td>2537.45</td>\n",
              "    </tr>\n",
              "    <tr>\n",
              "      <th>4</th>\n",
              "      <td>13.3</td>\n",
              "      <td>67</td>\n",
              "      <td>59</td>\n",
              "      <td>38</td>\n",
              "      <td>1803.60</td>\n",
              "    </tr>\n",
              "  </tbody>\n",
              "</table>\n",
              "</div>\n",
              "    <div class=\"colab-df-buttons\">\n",
              "\n",
              "  <div class=\"colab-df-container\">\n",
              "    <button class=\"colab-df-convert\" onclick=\"convertToInteractive('df-d95dd60d-4259-448d-9428-cc9993fedb2f')\"\n",
              "            title=\"Convert this dataframe to an interactive table.\"\n",
              "            style=\"display:none;\">\n",
              "\n",
              "  <svg xmlns=\"http://www.w3.org/2000/svg\" height=\"24px\" viewBox=\"0 -960 960 960\">\n",
              "    <path d=\"M120-120v-720h720v720H120Zm60-500h600v-160H180v160Zm220 220h160v-160H400v160Zm0 220h160v-160H400v160ZM180-400h160v-160H180v160Zm440 0h160v-160H620v160ZM180-180h160v-160H180v160Zm440 0h160v-160H620v160Z\"/>\n",
              "  </svg>\n",
              "    </button>\n",
              "\n",
              "  <style>\n",
              "    .colab-df-container {\n",
              "      display:flex;\n",
              "      gap: 12px;\n",
              "    }\n",
              "\n",
              "    .colab-df-convert {\n",
              "      background-color: #E8F0FE;\n",
              "      border: none;\n",
              "      border-radius: 50%;\n",
              "      cursor: pointer;\n",
              "      display: none;\n",
              "      fill: #1967D2;\n",
              "      height: 32px;\n",
              "      padding: 0 0 0 0;\n",
              "      width: 32px;\n",
              "    }\n",
              "\n",
              "    .colab-df-convert:hover {\n",
              "      background-color: #E2EBFA;\n",
              "      box-shadow: 0px 1px 2px rgba(60, 64, 67, 0.3), 0px 1px 3px 1px rgba(60, 64, 67, 0.15);\n",
              "      fill: #174EA6;\n",
              "    }\n",
              "\n",
              "    .colab-df-buttons div {\n",
              "      margin-bottom: 4px;\n",
              "    }\n",
              "\n",
              "    [theme=dark] .colab-df-convert {\n",
              "      background-color: #3B4455;\n",
              "      fill: #D2E3FC;\n",
              "    }\n",
              "\n",
              "    [theme=dark] .colab-df-convert:hover {\n",
              "      background-color: #434B5C;\n",
              "      box-shadow: 0px 1px 3px 1px rgba(0, 0, 0, 0.15);\n",
              "      filter: drop-shadow(0px 1px 2px rgba(0, 0, 0, 0.3));\n",
              "      fill: #FFFFFF;\n",
              "    }\n",
              "  </style>\n",
              "\n",
              "    <script>\n",
              "      const buttonEl =\n",
              "        document.querySelector('#df-d95dd60d-4259-448d-9428-cc9993fedb2f button.colab-df-convert');\n",
              "      buttonEl.style.display =\n",
              "        google.colab.kernel.accessAllowed ? 'block' : 'none';\n",
              "\n",
              "      async function convertToInteractive(key) {\n",
              "        const element = document.querySelector('#df-d95dd60d-4259-448d-9428-cc9993fedb2f');\n",
              "        const dataTable =\n",
              "          await google.colab.kernel.invokeFunction('convertToInteractive',\n",
              "                                                    [key], {});\n",
              "        if (!dataTable) return;\n",
              "\n",
              "        const docLinkHtml = 'Like what you see? Visit the ' +\n",
              "          '<a target=\"_blank\" href=https://colab.research.google.com/notebooks/data_table.ipynb>data table notebook</a>'\n",
              "          + ' to learn more about interactive tables.';\n",
              "        element.innerHTML = '';\n",
              "        dataTable['output_type'] = 'display_data';\n",
              "        await google.colab.output.renderOutput(dataTable, element);\n",
              "        const docLink = document.createElement('div');\n",
              "        docLink.innerHTML = docLinkHtml;\n",
              "        element.appendChild(docLink);\n",
              "      }\n",
              "    </script>\n",
              "  </div>\n",
              "\n",
              "\n",
              "<div id=\"df-08ee0af0-2b86-4b7c-93c3-0d865cf1f65d\">\n",
              "  <button class=\"colab-df-quickchart\" onclick=\"quickchart('df-08ee0af0-2b86-4b7c-93c3-0d865cf1f65d')\"\n",
              "            title=\"Suggest charts\"\n",
              "            style=\"display:none;\">\n",
              "\n",
              "<svg xmlns=\"http://www.w3.org/2000/svg\" height=\"24px\"viewBox=\"0 0 24 24\"\n",
              "     width=\"24px\">\n",
              "    <g>\n",
              "        <path d=\"M19 3H5c-1.1 0-2 .9-2 2v14c0 1.1.9 2 2 2h14c1.1 0 2-.9 2-2V5c0-1.1-.9-2-2-2zM9 17H7v-7h2v7zm4 0h-2V7h2v10zm4 0h-2v-4h2v4z\"/>\n",
              "    </g>\n",
              "</svg>\n",
              "  </button>\n",
              "\n",
              "<style>\n",
              "  .colab-df-quickchart {\n",
              "      --bg-color: #E8F0FE;\n",
              "      --fill-color: #1967D2;\n",
              "      --hover-bg-color: #E2EBFA;\n",
              "      --hover-fill-color: #174EA6;\n",
              "      --disabled-fill-color: #AAA;\n",
              "      --disabled-bg-color: #DDD;\n",
              "  }\n",
              "\n",
              "  [theme=dark] .colab-df-quickchart {\n",
              "      --bg-color: #3B4455;\n",
              "      --fill-color: #D2E3FC;\n",
              "      --hover-bg-color: #434B5C;\n",
              "      --hover-fill-color: #FFFFFF;\n",
              "      --disabled-bg-color: #3B4455;\n",
              "      --disabled-fill-color: #666;\n",
              "  }\n",
              "\n",
              "  .colab-df-quickchart {\n",
              "    background-color: var(--bg-color);\n",
              "    border: none;\n",
              "    border-radius: 50%;\n",
              "    cursor: pointer;\n",
              "    display: none;\n",
              "    fill: var(--fill-color);\n",
              "    height: 32px;\n",
              "    padding: 0;\n",
              "    width: 32px;\n",
              "  }\n",
              "\n",
              "  .colab-df-quickchart:hover {\n",
              "    background-color: var(--hover-bg-color);\n",
              "    box-shadow: 0 1px 2px rgba(60, 64, 67, 0.3), 0 1px 3px 1px rgba(60, 64, 67, 0.15);\n",
              "    fill: var(--button-hover-fill-color);\n",
              "  }\n",
              "\n",
              "  .colab-df-quickchart-complete:disabled,\n",
              "  .colab-df-quickchart-complete:disabled:hover {\n",
              "    background-color: var(--disabled-bg-color);\n",
              "    fill: var(--disabled-fill-color);\n",
              "    box-shadow: none;\n",
              "  }\n",
              "\n",
              "  .colab-df-spinner {\n",
              "    border: 2px solid var(--fill-color);\n",
              "    border-color: transparent;\n",
              "    border-bottom-color: var(--fill-color);\n",
              "    animation:\n",
              "      spin 1s steps(1) infinite;\n",
              "  }\n",
              "\n",
              "  @keyframes spin {\n",
              "    0% {\n",
              "      border-color: transparent;\n",
              "      border-bottom-color: var(--fill-color);\n",
              "      border-left-color: var(--fill-color);\n",
              "    }\n",
              "    20% {\n",
              "      border-color: transparent;\n",
              "      border-left-color: var(--fill-color);\n",
              "      border-top-color: var(--fill-color);\n",
              "    }\n",
              "    30% {\n",
              "      border-color: transparent;\n",
              "      border-left-color: var(--fill-color);\n",
              "      border-top-color: var(--fill-color);\n",
              "      border-right-color: var(--fill-color);\n",
              "    }\n",
              "    40% {\n",
              "      border-color: transparent;\n",
              "      border-right-color: var(--fill-color);\n",
              "      border-top-color: var(--fill-color);\n",
              "    }\n",
              "    60% {\n",
              "      border-color: transparent;\n",
              "      border-right-color: var(--fill-color);\n",
              "    }\n",
              "    80% {\n",
              "      border-color: transparent;\n",
              "      border-right-color: var(--fill-color);\n",
              "      border-bottom-color: var(--fill-color);\n",
              "    }\n",
              "    90% {\n",
              "      border-color: transparent;\n",
              "      border-bottom-color: var(--fill-color);\n",
              "    }\n",
              "  }\n",
              "</style>\n",
              "\n",
              "  <script>\n",
              "    async function quickchart(key) {\n",
              "      const quickchartButtonEl =\n",
              "        document.querySelector('#' + key + ' button');\n",
              "      quickchartButtonEl.disabled = true;  // To prevent multiple clicks.\n",
              "      quickchartButtonEl.classList.add('colab-df-spinner');\n",
              "      try {\n",
              "        const charts = await google.colab.kernel.invokeFunction(\n",
              "            'suggestCharts', [key], {});\n",
              "      } catch (error) {\n",
              "        console.error('Error during call to suggestCharts:', error);\n",
              "      }\n",
              "      quickchartButtonEl.classList.remove('colab-df-spinner');\n",
              "      quickchartButtonEl.classList.add('colab-df-quickchart-complete');\n",
              "    }\n",
              "    (() => {\n",
              "      let quickchartButtonEl =\n",
              "        document.querySelector('#df-08ee0af0-2b86-4b7c-93c3-0d865cf1f65d button');\n",
              "      quickchartButtonEl.style.display =\n",
              "        google.colab.kernel.accessAllowed ? 'block' : 'none';\n",
              "    })();\n",
              "  </script>\n",
              "</div>\n",
              "    </div>\n",
              "  </div>\n"
            ]
          },
          "metadata": {},
          "execution_count": 241
        }
      ]
    },
    {
      "cell_type": "markdown",
      "source": [
        "Catatan/Penjelasan:\n",
        "Output nya akan memberi tampillan 5 baris pertama tentang dataset dimana hanya terdapat beberapa kolom saja karena kolom lainnya sudah dihapus dan juga nilai yang semula berbentuk string menjadi numerik\n"
      ],
      "metadata": {
        "id": "qFbNbqhySjy2"
      }
    },
    {
      "cell_type": "markdown",
      "source": [
        "# Kode Selanjutnya"
      ],
      "metadata": {
        "id": "o-JQK4MQhuBS"
      }
    },
    {
      "cell_type": "markdown",
      "source": [
        "Prompt chatGPT:\n",
        "Cara mengetahui apakah ada outliers dari dataset yang mempunyai 4 fitur dengan box plot\n",
        "\n",
        "Fungsi plt.figure(figsize=(10, 6)):\n",
        "Untuk membuat plot figure berukuran lebar 10 inci dan tinggi 6 inci\n",
        "\n",
        "Fungsi sns.boxplot(data=df):\n",
        "Untuk Membuat boxplot berdasarkan dataframe yang dipakai\n",
        "\n",
        "Fungsi plt.title('Box Plot untuk Mendeteksi Outliers'):\n",
        "Untuk membuat judul dengan tulisan tersebut\n",
        "\n",
        "Fungsi plt.show():\n",
        "Untuk Menampilkan plot figure"
      ],
      "metadata": {
        "id": "KV3_ZPEthuca"
      }
    },
    {
      "cell_type": "code",
      "source": [
        "plt.figure(figsize=(10, 6)) # # Memplotkan figure dengan ukuran lebar 10 inci dan tinggi 6 inci\n",
        "sns.boxplot(data=df) # Boxplot akan dibuat berdasarkan dataframe\n",
        "plt.title('Box Plot untuk Mendeteksi Outliers') # Memberi judul tersebut di figure yang di plot\n",
        "plt.show() # Tampilkan figure"
      ],
      "metadata": {
        "colab": {
          "base_uri": "https://localhost:8080/",
          "height": 545
        },
        "id": "5V5XOzJIf2mm",
        "outputId": "ed82b481-d2ee-46dc-b162-930c5a3f7e88"
      },
      "execution_count": 250,
      "outputs": [
        {
          "output_type": "display_data",
          "data": {
            "text/plain": [
              "<Figure size 1000x600 with 1 Axes>"
            ],
            "image/png": "[encoded data removed]"
          },
          "metadata": {}
        }
      ]
    },
    {
      "cell_type": "markdown",
      "source": [
        "Catatan/Penjelasan:\n",
        "Output nya akan memberikan info outlier (yaitu nilai yang terlihat menyebar dan tidak menyatu ) yang tersebar (jika ada) di boxplot dan terlihat bahwa fitur price_euros terdapat outlier, tetapi karena price_euros adalah fitur target kita tidak usah menghapus outlier tersebut"
      ],
      "metadata": {
        "id": "vwRT3vyziHDO"
      }
    },
    {
      "cell_type": "markdown",
      "source": [
        "# Kode Selanjutnya"
      ],
      "metadata": {
        "id": "mmre4IlmSkJ-"
      }
    },
    {
      "cell_type": "markdown",
      "source": [
        "Prompt chatGPT:\n",
        "Cara untuk mengetahui baris ganda dalam dataset\n",
        "\n",
        "Fungsi duplicates = df[df.duplicated()]:\n",
        "Untuk melakukan pengecekan baris yang terdeteksi duplikasi dari baris lainnya\n",
        "\n",
        "Fungsi print(\"Baris Ganda:\"):\n",
        "Untuk menulis Baris Ganda dalam Output\n",
        "\n",
        "Fungsi print(duplicates):\n",
        "Untuk menampilkan nilai yang terdeteksi duplikasi dari baris lainnya"
      ],
      "metadata": {
        "id": "hrmCfqDTjDiX"
      }
    },
    {
      "cell_type": "code",
      "source": [
        "duplicates = df[df.duplicated()] # Menampilkan baris ganda\n",
        "\n",
        "print(\"Baris Ganda:\") # Menulis Baris Ganda\n",
        "print(duplicates) # Menampilkan Baris Ganda"
      ],
      "metadata": {
        "colab": {
          "base_uri": "https://localhost:8080/"
        },
        "id": "yOQvSIhoi70H",
        "outputId": "df491465-2ff9-44a1-ef6c-eedd89809397"
      },
      "execution_count": 243,
      "outputs": [
        {
          "output_type": "stream",
          "name": "stdout",
          "text": [
            "Baris Ganda:\n",
            "      Inches  Cpu  Gpu  Weight  Price_euros\n",
            "432     14.0   60   53      70       599.00\n",
            "1004    13.3   68   47      32      1195.00\n",
            "1115    13.3   98   58      24      1379.00\n",
            "1162    15.6  102   75     130       899.00\n",
            "1262    15.6   59   53     121       459.00\n",
            "1274    15.6   34   40     113       369.00\n",
            "1275    13.3   45   46      32       729.00\n",
            "1276    15.6   59   53     121       459.00\n",
            "1277    15.6   36   41     124       289.00\n",
            "1278    15.6   34   40     106       379.00\n",
            "1279    15.6   92   89     135       899.00\n",
            "1280    15.6   12   29      90       549.99\n",
            "1281    15.6   97   24     121       805.99\n",
            "1282    11.6   36   41      18       209.00\n",
            "1283    15.6   89   65     113       720.32\n",
            "1284    14.0   89   47      78       638.00\n",
            "1285    13.3   89   47      41      1499.00\n",
            "1286    14.0   34   40      56       229.00\n",
            "1287    15.6   89   21     104       764.00\n",
            "1288    15.6   34   40     113       369.00\n",
            "1289    13.3   45   46      32       729.00\n",
            "1290    15.6   59   53     121       459.00\n",
            "1291    15.6   36   41     124       289.00\n",
            "1292    15.6   34   40     106       379.00\n",
            "1293    15.6   92   89     135       899.00\n",
            "1294    15.6   12   29      90       549.99\n",
            "1295    15.6   97   24     121       805.99\n",
            "1296    11.6   36   41      18       209.00\n",
            "1297    15.6   89   65     113       720.32\n",
            "1298    14.0   89   47      78       638.00\n",
            "1299    13.3   89   47      41      1499.00\n",
            "1300    14.0   34   40      56       229.00\n",
            "1301    15.6   89   21     104       764.00\n",
            "1302    15.6   34   40     113       369.00\n"
          ]
        }
      ]
    },
    {
      "cell_type": "markdown",
      "source": [
        "Catatan/Penjelasan:\n",
        "Output nya akan memberi nilai yang terdeteki duplikat dan kolom-kolom ini bisa kita hapus untuk membuat dataset menjadi lebih bagus"
      ],
      "metadata": {
        "id": "Y3xsNHz4jXAT"
      }
    },
    {
      "cell_type": "markdown",
      "source": [
        "# Kode Selanjutnya"
      ],
      "metadata": {
        "id": "PKN1jyG0jZq3"
      }
    },
    {
      "cell_type": "markdown",
      "source": [
        "Prompt chatGPT:\n",
        "Cara untuk mengetahui baris ganda dalam dataset\n",
        "\n",
        "Fungsi df_no_duplicates = df.drop_duplicates():\n",
        "Untuk menghapus beris ganda yang ada dalam dataset\n",
        "\n",
        "Fungsi print(\"DataFrame Tanpa Baris Ganda:\"):\n",
        "Untuk menulis DataFrame Tanpa Baris Ganda dalam Output\n",
        "\n",
        "Fungsi print(df_no_duplicates) :\n",
        "Untuk menampilkan dataframe yang sudah tidak ada baris ganda"
      ],
      "metadata": {
        "id": "KLu2_BhAjbI6"
      }
    },
    {
      "cell_type": "code",
      "source": [
        "df_no_duplicates = df.drop_duplicates() # Menghapus baris ganda dari DataFrame\n",
        "\n",
        "print(\"DataFrame Tanpa Baris Ganda:\") # Menulis DataFrame Tanpa Baris Ganda\n",
        "print(df_no_duplicates) # Menampilkan DataFrame Tanpa Baris Ganda"
      ],
      "metadata": {
        "colab": {
          "base_uri": "https://localhost:8080/"
        },
        "id": "ZjKSsWpOjdlV",
        "outputId": "72f5a498-313c-4549-b884-f0f26a0309cb"
      },
      "execution_count": 244,
      "outputs": [
        {
          "output_type": "stream",
          "name": "stdout",
          "text": [
            "DataFrame Tanpa Baris Ganda:\n",
            "      Inches  Cpu  Gpu  Weight  Price_euros\n",
            "0       13.3   65   58      38      1339.69\n",
            "1       13.3   63   51      35       898.94\n",
            "2       15.6   74   53      74       575.00\n",
            "3       15.4   85    9      71      2537.45\n",
            "4       13.3   67   59      38      1803.60\n",
            "...      ...  ...  ...     ...          ...\n",
            "1269    15.6   89   65     113       720.32\n",
            "1270    14.0   89   47      78       638.00\n",
            "1271    13.3   89   47      41      1499.00\n",
            "1272    14.0   34   40      56       229.00\n",
            "1273    15.6   89   21     104       764.00\n",
            "\n",
            "[1269 rows x 5 columns]\n"
          ]
        }
      ]
    },
    {
      "cell_type": "markdown",
      "source": [
        "Catatan/Penjelasan:\n",
        "Output nya akan memberilkan 5 baris pertama dan 5 baris terakhir dalam dataset dan juga baris ganda yang terdeteksi sudah dihapus"
      ],
      "metadata": {
        "id": "k3-TAdYcma0C"
      }
    },
    {
      "cell_type": "markdown",
      "source": [
        "# Kode Selanjutnya"
      ],
      "metadata": {
        "id": "o3Q2It3ZkZFF"
      }
    },
    {
      "cell_type": "markdown",
      "source": [
        "Prompt chatGPT:\n",
        "Buat kode parameter fitur dan target\n",
        "\n",
        "Fungsi X = df.drop('Price_euros', axis=1):\n",
        "Untuk menghapus kolom 'Price_euros' dalam variabel fitur\n",
        "\n",
        "Fungsi y = df['Price_euros'] :\n",
        "Untuk membuat kolom 'Price_euros' menjadi target prediksi"
      ],
      "metadata": {
        "id": "UVYNRlT-SkQ_"
      }
    },
    {
      "cell_type": "code",
      "source": [
        "X = df.drop('Price_euros', axis=1)  # Drop kolom 'Price_euros' untuk membuat fitur lain selain price_euros menjadi parameter fitur\n",
        "y = df['Price_euros']  # Ambil kolom 'Price_euros' sebagai target"
      ],
      "metadata": {
        "id": "HnwVvYNtDDOY"
      },
      "execution_count": 245,
      "outputs": []
    },
    {
      "cell_type": "markdown",
      "source": [
        "# Kode Selanjutnya"
      ],
      "metadata": {
        "id": "nCeVX4YJUKDN"
      }
    },
    {
      "cell_type": "markdown",
      "source": [
        "Prompt chatGPT:\n",
        "Buat data latih dan uji\n",
        "\n",
        "Fungsi from sklearn.model_selection import train_test_split (kodenya digabungkan di paling atas sama modul yang lain):\n",
        "Modul yang digunakan untuk memecah dataset menjadi data latih dan data uji\n",
        "\n",
        "\n",
        "Fungsi X_train, X_test, y_train, y_test = train_test_split(X, y, test_size=0.2, random_state=42):\n",
        "Untuk memecah dataset menjadi data latih dan data uji dengan data uji yang diberikan hanya sebesar 20% dari dataset dan random_state yang akan membuat model tetap konsisten dan tidak melatih data uji dan data latih setiap kali mengeksekusi program"
      ],
      "metadata": {
        "id": "naewtZ8kUKMs"
      }
    },
    {
      "cell_type": "code",
      "source": [
        "X_train, X_test, y_train, y_test = train_test_split(X, y, test_size=0.2, random_state=42) # Membagi dataset menjadi data latih dan data uji"
      ],
      "metadata": {
        "id": "qyrb_6uwDWmy"
      },
      "execution_count": 246,
      "outputs": []
    },
    {
      "cell_type": "markdown",
      "source": [
        "# Kode Selanjutnya"
      ],
      "metadata": {
        "id": "GEihsYdbVGwz"
      }
    },
    {
      "cell_type": "markdown",
      "source": [
        "Prompt chatGPT:\n",
        "Buatkan kode untuk menggunakan svr dan juga tampilkan hasil akurasi (perhitungan akurasi tidak bisa menggunakan accuracy.score karena modul tersebut hanya menghitung hasil akurasi yang terkait dengan pengklasifikasian dan bukan regresi)\n",
        "\n",
        "Fungsi from sklearn.svm import SVR:\n",
        "Untuk menggunakan SVM tipe regresi dan bukan klasifikasi\n",
        "\n",
        "Fungsi model = svm_regressor = SVR(kernel='linear'):\n",
        "Untuk menggunakan metode SVM yang bersifat regresi\n",
        "\n",
        "Fungsi model.fit(X_train, y_train):\n",
        "Untuk melatih model dengan data yang sudah dilatih sebelumnya\n",
        "\n",
        "Fungsi y_pred = model.predict(X_test):\n",
        "Untuk membuat prediksi berdasarkan dari data uji"
      ],
      "metadata": {
        "id": "ZKrUki5MVG2p"
      }
    },
    {
      "cell_type": "code",
      "source": [
        "model = svm_regressor = SVR(kernel='linear') # Inisialisasi model SVR\n",
        "\n",
        "model.fit(X_train, y_train) # Melatih model dengan data latih\n",
        "\n",
        "y_pred = model.predict(X_test) # Membuat prediksi menggunakan data uji"
      ],
      "metadata": {
        "id": "_ak7SZs_EAlf"
      },
      "execution_count": 247,
      "outputs": []
    },
    {
      "cell_type": "markdown",
      "source": [
        "# Kode Selanjutnya"
      ],
      "metadata": {
        "id": "BHzmHx-aVIKA"
      }
    },
    {
      "cell_type": "markdown",
      "source": [
        "Prompt chatGPT:\n",
        "Buat kode untuk menampilkan akurasi menggunakan svm dan tampilkan kode untuk mae dan mse dengan variabel\n",
        "X_train, X_test, y_train, y_test = train_test_split(X, y, test_size=0.2, random_state=42)\n",
        "\n",
        "Fungsi from sklearn.metrics import mean_absolute_error, mean_squared_error, r2_score:\n",
        "Untuk menggunakan modul MAE, MSE, dan juga R2\n",
        "\n",
        "Fungsi r2 = r2_score(y_test, y_pred):\n",
        "Untuk melakukan perhitungan niai R2\n",
        "\n",
        "Fungsi mae = mean_absolute_error(y_test, y_pred):\n",
        "Untuk melakukan perhitungan nilai MAE\n",
        "\n",
        "Fungsi mse = mean_squared_error(y_test, y_pred):\n",
        "Untuk melakukan perhitungan nilai MSE"
      ],
      "metadata": {
        "id": "vuiYSTgUVIQP"
      }
    },
    {
      "cell_type": "code",
      "source": [
        "r2 = r2_score(y_test, y_pred) # Menghitung R^2\n",
        "\n",
        "mae = mean_absolute_error(y_test, y_pred) # Menghitung MAE (Mean Absolute Error)\n",
        "\n",
        "mse = mean_squared_error(y_test, y_pred) # Menghitung MSE (Mean Squared Error)"
      ],
      "metadata": {
        "id": "sothH4IPHA8M"
      },
      "execution_count": 248,
      "outputs": []
    },
    {
      "cell_type": "markdown",
      "source": [
        "# Kode Selanjutnya"
      ],
      "metadata": {
        "id": "dYzlYH_tWo7u"
      }
    },
    {
      "cell_type": "markdown",
      "source": [
        "Prompt chatGPT:\n",
        "buat kode untuk menampilkan akurasi menggunakan svm dan tampilkan kode untuk mae dan mse dengan variabel\n",
        "X_train, X_test, y_train, y_test = train_test_split(X, y, test_size=0.2, random_state=42)\n",
        "\n",
        "Fungsi print(\"R^2: {:.2f}\".format(r2)):\n",
        "Untuk menampilkan nilai dari perhitungan R2 yang dilakukan di kode sebelumnya dengan format 2 angka di belakang koma\n",
        "\n",
        "Fungsi print(\"MAE: {:.2f}\".format(mae)):\n",
        "Untuk menampilkan nilai dari perhitungan mae yang dilakukan di kode sebelumnya dengan format 2 angka di belakang koma\n",
        "\n",
        "Fungsi print(\"MSE: {:.2f}\".format(mse))):\n",
        "Untuk menampilkan nilai dari perhitungan mse yang dilakukan di kode sebelumnya dengan format 2 angka di belakang koma"
      ],
      "metadata": {
        "id": "O3-JhZe2WpBr"
      }
    },
    {
      "cell_type": "code",
      "source": [
        "print(\"R^2: {:.2f}\".format(r2)) # Menampilkan nilai r2\n",
        "print(\"MAE: {:.2f}\".format(mae)) # Menampilkan nilai mae\n",
        "print(\"MSE: {:.2f}\".format(mse)) # Menampilkan nilai mse"
      ],
      "metadata": {
        "colab": {
          "base_uri": "https://localhost:8080/"
        },
        "id": "znjIQV_UHF9M",
        "outputId": "3d71ab2a-91e5-4921-8199-fa6884db5397"
      },
      "execution_count": 249,
      "outputs": [
        {
          "output_type": "stream",
          "name": "stdout",
          "text": [
            "R^2: 0.26\n",
            "MAE: 387.01\n",
            "MSE: 375263.81\n"
          ]
        }
      ]
    },
    {
      "cell_type": "markdown",
      "source": [
        "Catatan/Penjelasan:\n",
        "Output nya akan memberi nilai dari R2 yang mana jika nilai tersebut tinggi maka variasi dalam data target sangat beragam, dan untuk MAE dan MSE jika kedua nilai tersebut tinggi berarti model banyak melakukan kesalahan dalam memprediksi nilai akurasi"
      ],
      "metadata": {
        "id": "m0xxpY72WrB9"
      }
    }
  ]
}