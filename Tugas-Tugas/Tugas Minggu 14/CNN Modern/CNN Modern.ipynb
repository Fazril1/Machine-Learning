{
  "nbformat": 4,
  "nbformat_minor": 0,
  "metadata": {
    "colab": {
      "provenance": [],
      "authorship_tag": "ABX9TyO9A5l/mGGBAlOEAJc1RjXr",
      "include_colab_link": true
    },
    "kernelspec": {
      "name": "python3",
      "display_name": "Python 3"
    },
    "language_info": {
      "name": "python"
    }
  },
  "cells": [
    {
      "cell_type": "markdown",
      "metadata": {
        "id": "view-in-github",
        "colab_type": "text"
      },
      "source": [
        "<a href=\"https://colab.research.google.com/github/Fazril1/Machine-Learning/blob/main/Tugas-Tugas/Tugas%20Minggu%2014/CNN%20Modern/CNN%20Modern.ipynb\" target=\"_parent\"><img src=\"https://colab.research.google.com/assets/colab-badge.svg\" alt=\"Open In Colab\"/></a>"
      ]
    },
    {
      "cell_type": "markdown",
      "source": [
        "Ibnu Fazril 1103201241 tugas ke-14 CNN Modern"
      ],
      "metadata": {
        "id": "0s57UADs-mxS"
      }
    },
    {
      "cell_type": "markdown",
      "source": [
        "#AlexNet"
      ],
      "metadata": {
        "id": "1UnMgHd6-jV6"
      }
    },
    {
      "cell_type": "markdown",
      "source": [
        "![Alexnet Architecture](data:image/png;base64,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)"
      ],
      "metadata": {
        "id": "foW_OHqBO5IM"
      }
    },
    {
      "cell_type": "code",
      "execution_count": null,
      "metadata": {
        "id": "V83RW3of7Svb"
      },
      "outputs": [],
      "source": [
        "import torch # Import torch\n",
        "import torch.nn as nn # Import torch.nn\n",
        "import torch.optim as optim # Import torch.optim\n",
        "import torchvision # Import torchVision\n",
        "import torchvision.transforms as transforms # Import transform\n",
        "from torch.utils.data import DataLoader # Import Torch.utils.data"
      ]
    },
    {
      "cell_type": "code",
      "source": [
        "# Set device to GPU if available\n",
        "device = torch.device(\"cuda\" if torch.cuda.is_available() else \"cpu\") # Atur gawai menjadi GPU jika memungkinkan"
      ],
      "metadata": {
        "id": "UbwcsPu6_Kor"
      },
      "execution_count": null,
      "outputs": []
    },
    {
      "cell_type": "code",
      "source": [
        "# Define the AlexNet architecture for MNIST\n",
        "class AlexNetMNIST(nn.Module):\n",
        "    def __init__(self):\n",
        "        super(AlexNetMNIST, self).__init__()\n",
        "        self.features = nn.Sequential(\n",
        "            nn.Conv2d(1, 64, kernel_size=11, stride=4, padding=2),\n",
        "            nn.ReLU(inplace=True),\n",
        "            nn.MaxPool2d(kernel_size=3, stride=2),\n",
        "            nn.Conv2d(64, 192, kernel_size=5, padding=2),\n",
        "            nn.ReLU(inplace=True),\n",
        "            nn.MaxPool2d(kernel_size=3, stride=2),\n",
        "            nn.Conv2d(192, 384, kernel_size=3, padding=1),\n",
        "            nn.ReLU(inplace=True),\n",
        "            nn.Conv2d(384, 256, kernel_size=3, padding=1),\n",
        "            nn.ReLU(inplace=True),\n",
        "            nn.Conv2d(256, 256, kernel_size=3, padding=1),\n",
        "            nn.ReLU(inplace=True),\n",
        "            nn.MaxPool2d(kernel_size=3, stride=2),\n",
        "        )\n",
        "        self.avgpool = nn.AdaptiveAvgPool2d((6, 6))\n",
        "        self.classifier = nn.Sequential(\n",
        "            nn.Dropout(),\n",
        "            nn.Linear(256 * 6 * 6, 4096),\n",
        "            nn.ReLU(inplace=True),\n",
        "            nn.Dropout(),\n",
        "            nn.Linear(4096, 4096),\n",
        "            nn.ReLU(inplace=True),\n",
        "            nn.Linear(4096, 10),  # 10 classes for MNIST\n",
        "       )\n",
        "\n",
        "    def forward(self, x):\n",
        "        x = self.features(x)\n",
        "        x = self.avgpool(x)\n",
        "        x = torch.flatten(x, 1)\n",
        "        x = self.classifier(x)\n",
        "        return x"
      ],
      "metadata": {
        "id": "G7cno4Vt_1jK"
      },
      "execution_count": null,
      "outputs": []
    },
    {
      "cell_type": "code",
      "source": [
        "# Load MNIST dataset\n",
        "transform = transforms.Compose([\n",
        "    transforms.Resize((100, 100)),\n",
        "    transforms.ToTensor(),\n",
        "])"
      ],
      "metadata": {
        "id": "7sILloK8Az-A"
      },
      "execution_count": null,
      "outputs": []
    },
    {
      "cell_type": "markdown",
      "source": [
        "Define train dataset dan test dataset"
      ],
      "metadata": {
        "id": "BDH7-Wq6Ch96"
      }
    },
    {
      "cell_type": "code",
      "source": [
        "# Train and test dataset\n",
        "train_dataset = torchvision.datasets.MNIST(root=\"./data\", train=True, download=True, transform=transform)\n",
        "test_dataset = torchvision.datasets.MNIST(root=\"./data\", train=False, download=True, transform=transform)"
      ],
      "metadata": {
        "id": "ZJjjRfzqCOfP"
      },
      "execution_count": null,
      "outputs": []
    },
    {
      "cell_type": "code",
      "source": [
        "# Train and test loader\n",
        "train_loader = DataLoader(dataset=train_dataset, batch_size=64, shuffle=True)\n",
        "test_loader = DataLoader(dataset=test_dataset, batch_size=64, shuffle=False)"
      ],
      "metadata": {
        "id": "dyqU32u0Cs2b"
      },
      "execution_count": null,
      "outputs": []
    },
    {
      "cell_type": "code",
      "source": [
        "# Initialize model, loss function, and optimizer\n",
        "model = AlexNetMNIST().to(device)\n",
        "criterion = nn.CrossEntropyLoss()\n",
        "optimizer = optim.Adam(model.parameters(), lr=0.001)"
      ],
      "metadata": {
        "id": "yeR1_rFhC6nZ"
      },
      "execution_count": null,
      "outputs": []
    },
    {
      "cell_type": "code",
      "source": [
        "# Training\n",
        "num_epochs = 5\n",
        "\n",
        "for epoch in range(num_epochs):\n",
        "    model.train()\n",
        "    total_loss = 0.0\n",
        "    for inputs, labels in train_loader:\n",
        "        inputs, labels = inputs.to(device), labels.to(device)\n",
        "\n",
        "        optimizer.zero_grad()\n",
        "\n",
        "        outputs = model(inputs)\n",
        "        loss = criterion(outputs, labels)\n",
        "        loss.backward()\n",
        "        optimizer.step()\n",
        "\n",
        "        total_loss += loss.item()\n",
        "\n",
        "    print(f\"Epoch {epoch + 1}/{num_epochs}, Loss: {total_loss / len(train_loader)}\")"
      ],
      "metadata": {
        "id": "t9lDMDYwEnQe"
      },
      "execution_count": null,
      "outputs": []
    },
    {
      "cell_type": "code",
      "source": [
        "# Testing\n",
        "model.eval()\n",
        "total_correct = 0\n",
        "total_samples = 0\n",
        "\n",
        "with torch.no_grad():\n",
        "    for inputs, labels in test_loader:\n",
        "        inputs, labels = inputs.to(device), labels.to(device)\n",
        "\n",
        "        outputs = model(inputs)\n",
        "        _, predictions = torch.max(outputs, 1)\n",
        "\n",
        "        total_correct += (predictions == labels).sum().item()\n",
        "        total_samples += labels.size(0)\n",
        "\n",
        "accuracy = total_correct / total_samples\n",
        "print(f\"Test Accuracy: {accuracy}\")"
      ],
      "metadata": {
        "id": "0-nnoKU8KLtk"
      },
      "execution_count": null,
      "outputs": []
    },
    {
      "cell_type": "markdown",
      "source": [
        "#LeNet 5  "
      ],
      "metadata": {
        "id": "nZbuF29b-kVv"
      }
    },
    {
      "cell_type": "markdown",
      "source": [
        "![LeNet 5 Architecture](data:image/jpeg;base64,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)"
      ],
      "metadata": {
        "id": "pzLWs3_-OHiQ"
      }
    },
    {
      "cell_type": "code",
      "source": [
        "import torch # Import torch\n",
        "import torch.nn as nn # Import torch.nn\n",
        "import torch.optim as optim # Import torch.optim\n",
        "import torchvision # Import torchVision\n",
        "import torchvision.transforms as transforms # Import transform\n",
        "from torch.utils.data import DataLoader # Import Torch.utils.data"
      ],
      "metadata": {
        "id": "h7kNi673NfGj"
      },
      "execution_count": 1,
      "outputs": []
    },
    {
      "cell_type": "code",
      "source": [
        "# Set device to GPU if available\n",
        "device = torch.device(\"cuda\" if torch.cuda.is_available() else \"cpu\")"
      ],
      "metadata": {
        "id": "fIU5nifnNfLj"
      },
      "execution_count": 2,
      "outputs": []
    },
    {
      "cell_type": "code",
      "source": [
        "# Define the LeNet-5 architecture for MNIST\n",
        "class LeNet5(nn.Module):\n",
        "    def __init__(self):\n",
        "        super(LeNet5, self).__init__()\n",
        "        self.conv1 = nn.Conv2d(1, 6, kernel_size=5, stride=1, padding=2)\n",
        "        self.relu1 = nn.ReLU()\n",
        "        self.pool1 = nn.MaxPool2d(kernel_size=2, stride=2)\n",
        "\n",
        "        self.conv2 = nn.Conv2d(6, 16, kernel_size=5, stride=1)\n",
        "        self.relu2 = nn.ReLU()\n",
        "        self.pool2 = nn.MaxPool2d(kernel_size=2, stride=2)\n",
        "\n",
        "        self.fc1 = nn.Linear(16 * 5 * 5, 120)\n",
        "        self.relu3 = nn.ReLU()\n",
        "\n",
        "        self.fc2 = nn.Linear(120, 84)\n",
        "        self.relu4 = nn.ReLU()\n",
        "\n",
        "        self.fc3 = nn.Linear(84, 10)\n",
        "\n",
        "    def forward(self, x):\n",
        "        x = self.pool1(self.relu1(self.conv1(x)))\n",
        "        x = self.pool2(self.relu2(self.conv2(x)))\n",
        "        x = x.view(-1, 16 * 5 * 5)\n",
        "        x = self.relu3(self.fc1(x))\n",
        "        x = self.relu4(self.fc2(x))\n",
        "        x = self.fc3(x)\n",
        "        return x"
      ],
      "metadata": {
        "id": "6AREQJxyNfOm"
      },
      "execution_count": 3,
      "outputs": []
    },
    {
      "cell_type": "code",
      "source": [
        "# Load MNIST dataset\n",
        "transform = transforms.Compose([\n",
        "    transforms.Resize((28, 28)),\n",
        "    transforms.ToTensor(),\n",
        "])"
      ],
      "metadata": {
        "id": "1w0UCE4kNtC8"
      },
      "execution_count": 4,
      "outputs": []
    },
    {
      "cell_type": "markdown",
      "source": [
        "Define train dataset dan test dataset"
      ],
      "metadata": {
        "id": "sxV9WJMgQTdn"
      }
    },
    {
      "cell_type": "code",
      "source": [
        "# Train and test dataset\n",
        "train_dataset = torchvision.datasets.MNIST(root=\"./data\", train=True, download=True, transform=transform)\n",
        "test_dataset = torchvision.datasets.MNIST(root=\"./data\", train=False, download=True, transform=transform)"
      ],
      "metadata": {
        "id": "WFJhyjAqNtGG",
        "colab": {
          "base_uri": "https://localhost:8080/"
        },
        "outputId": "391cc0d4-1e83-4a9f-df6a-d558bb46ddbd"
      },
      "execution_count": 5,
      "outputs": [
        {
          "output_type": "stream",
          "name": "stdout",
          "text": [
            "Downloading http://yann.lecun.com/exdb/mnist/train-images-idx3-ubyte.gz\n",
            "Downloading http://yann.lecun.com/exdb/mnist/train-images-idx3-ubyte.gz to ./data/MNIST/raw/train-images-idx3-ubyte.gz\n"
          ]
        },
        {
          "output_type": "stream",
          "name": "stderr",
          "text": [
            "100%|██████████| 9912422/9912422 [00:00<00:00, 92934861.20it/s]\n"
          ]
        },
        {
          "output_type": "stream",
          "name": "stdout",
          "text": [
            "Extracting ./data/MNIST/raw/train-images-idx3-ubyte.gz to ./data/MNIST/raw\n",
            "\n",
            "Downloading http://yann.lecun.com/exdb/mnist/train-labels-idx1-ubyte.gz\n",
            "Downloading http://yann.lecun.com/exdb/mnist/train-labels-idx1-ubyte.gz to ./data/MNIST/raw/train-labels-idx1-ubyte.gz\n"
          ]
        },
        {
          "output_type": "stream",
          "name": "stderr",
          "text": [
            "100%|██████████| 28881/28881 [00:00<00:00, 23206071.61it/s]"
          ]
        },
        {
          "output_type": "stream",
          "name": "stdout",
          "text": [
            "Extracting ./data/MNIST/raw/train-labels-idx1-ubyte.gz to ./data/MNIST/raw\n",
            "\n",
            "Downloading http://yann.lecun.com/exdb/mnist/t10k-images-idx3-ubyte.gz\n",
            "Downloading http://yann.lecun.com/exdb/mnist/t10k-images-idx3-ubyte.gz to ./data/MNIST/raw/t10k-images-idx3-ubyte.gz\n"
          ]
        },
        {
          "output_type": "stream",
          "name": "stderr",
          "text": [
            "\n",
            "100%|██████████| 1648877/1648877 [00:00<00:00, 27575434.50it/s]\n"
          ]
        },
        {
          "output_type": "stream",
          "name": "stdout",
          "text": [
            "Extracting ./data/MNIST/raw/t10k-images-idx3-ubyte.gz to ./data/MNIST/raw\n",
            "\n",
            "Downloading http://yann.lecun.com/exdb/mnist/t10k-labels-idx1-ubyte.gz\n",
            "Downloading http://yann.lecun.com/exdb/mnist/t10k-labels-idx1-ubyte.gz to ./data/MNIST/raw/t10k-labels-idx1-ubyte.gz\n"
          ]
        },
        {
          "output_type": "stream",
          "name": "stderr",
          "text": [
            "100%|██████████| 4542/4542 [00:00<00:00, 3890244.80it/s]\n"
          ]
        },
        {
          "output_type": "stream",
          "name": "stdout",
          "text": [
            "Extracting ./data/MNIST/raw/t10k-labels-idx1-ubyte.gz to ./data/MNIST/raw\n",
            "\n"
          ]
        }
      ]
    },
    {
      "cell_type": "code",
      "source": [
        "# Train and test loader\n",
        "train_loader = DataLoader(dataset=train_dataset, batch_size=64, shuffle=True)\n",
        "test_loader = DataLoader(dataset=test_dataset, batch_size=64, shuffle=False)"
      ],
      "metadata": {
        "id": "71q6RA4aNtJm"
      },
      "execution_count": 6,
      "outputs": []
    },
    {
      "cell_type": "code",
      "source": [
        "# Initialize model, loss function, and optimizer\n",
        "model = LeNet5().to(device)\n",
        "criterion = nn.CrossEntropyLoss()\n",
        "optimizer = optim.Adam(model.parameters(), lr=0.001)"
      ],
      "metadata": {
        "id": "T00xaxdpQKLv"
      },
      "execution_count": 7,
      "outputs": []
    },
    {
      "cell_type": "code",
      "source": [
        "# Training\n",
        "num_epochs = 5\n",
        "\n",
        "for epoch in range(num_epochs):\n",
        "    model.train()\n",
        "    total_loss = 0.0\n",
        "    for inputs, labels in train_loader:\n",
        "        inputs, labels = inputs.to(device), labels.to(device)\n",
        "\n",
        "        optimizer.zero_grad()\n",
        "\n",
        "        outputs = model(inputs)\n",
        "        loss = criterion(outputs, labels)\n",
        "        loss.backward()\n",
        "        optimizer.step()\n",
        "\n",
        "        total_loss += loss.item()\n",
        "\n",
        "    print(f\"Epoch {epoch + 1}/{num_epochs}, Loss: {total_loss / len(train_loader)}\")"
      ],
      "metadata": {
        "colab": {
          "base_uri": "https://localhost:8080/"
        },
        "id": "n3hezFBFNtM3",
        "outputId": "558c9042-1fa0-4799-fab5-4d5d92413f81"
      },
      "execution_count": 8,
      "outputs": [
        {
          "output_type": "stream",
          "name": "stdout",
          "text": [
            "Epoch 1/5, Loss: 0.2840054084771255\n",
            "Epoch 2/5, Loss: 0.07251188803766011\n",
            "Epoch 3/5, Loss: 0.051311493591357796\n",
            "Epoch 4/5, Loss: 0.040061096670907806\n",
            "Epoch 5/5, Loss: 0.033060576296413936\n"
          ]
        }
      ]
    },
    {
      "cell_type": "code",
      "source": [
        "# Testing\n",
        "model.eval()\n",
        "total_correct = 0\n",
        "total_samples = 0\n",
        "\n",
        "with torch.no_grad():\n",
        "    for inputs, labels in test_loader:\n",
        "        inputs, labels = inputs.to(device), labels.to(device)\n",
        "\n",
        "        outputs = model(inputs)\n",
        "        _, predictions = torch.max(outputs, 1)\n",
        "\n",
        "        total_correct += (predictions == labels).sum().item()\n",
        "        total_samples += labels.size(0)\n",
        "\n",
        "accuracy = total_correct / total_samples\n",
        "print(f\"Test Accuracy: {accuracy}\")"
      ],
      "metadata": {
        "colab": {
          "base_uri": "https://localhost:8080/"
        },
        "id": "AJ18s9FkNzZt",
        "outputId": "c28689ad-c28f-4c3d-8bff-01d87c7ebdfc"
      },
      "execution_count": 9,
      "outputs": [
        {
          "output_type": "stream",
          "name": "stdout",
          "text": [
            "Test Accuracy: 0.99\n"
          ]
        }
      ]
    },
    {
      "cell_type": "markdown",
      "source": [
        "#VGGNet"
      ],
      "metadata": {
        "id": "KL88V1vr-key"
      }
    },
    {
      "cell_type": "markdown",
      "source": [
        "![VGGNet Architecture](data:image/jpeg;base64,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)"
      ],
      "metadata": {
        "id": "Qj_garOoPExA"
      }
    },
    {
      "cell_type": "code",
      "source": [
        "import torch # Import torch\n",
        "import torch.nn as nn # Import torch.nn\n",
        "import torch.optim as optim # Import torch.optim\n",
        "import torchvision # Import torchVision\n",
        "import torchvision.transforms as transforms # Import transform\n",
        "from torch.utils.data import DataLoader # Import Torch.utils.data"
      ],
      "metadata": {
        "id": "mW1NEtWUPf2F"
      },
      "execution_count": null,
      "outputs": []
    },
    {
      "cell_type": "code",
      "source": [
        "# Set device to GPU if available\n",
        "device = torch.device(\"cuda\" if torch.cuda.is_available() else \"cpu\")"
      ],
      "metadata": {
        "id": "CjAdeD4CPf-k"
      },
      "execution_count": null,
      "outputs": []
    },
    {
      "cell_type": "code",
      "source": [
        "# Define the VGGNet architecture for MNIST\n",
        "class VGGNet(nn.Module):\n",
        "    def __init__(self):\n",
        "        super(VGGNet, self).__init__()\n",
        "        self.features = nn.Sequential(\n",
        "            nn.Conv2d(1, 64, kernel_size=3, padding=1),\n",
        "            nn.ReLU(inplace=True),\n",
        "            nn.MaxPool2d(kernel_size=2, stride=2),\n",
        "            nn.Conv2d(64, 128, kernel_size=3, padding=1),\n",
        "            nn.ReLU(inplace=True),\n",
        "            nn.MaxPool2d(kernel_size=2, stride=2),\n",
        "            nn.Conv2d(128, 256, kernel_size=3, padding=1),\n",
        "            nn.ReLU(inplace=True),\n",
        "            nn.Conv2d(256, 256, kernel_size=3, padding=1),\n",
        "            nn.ReLU(inplace=True),\n",
        "            nn.MaxPool2d(kernel_size=2, stride=2),\n",
        "        )\n",
        "        self.avgpool = nn.AdaptiveAvgPool2d((7, 7))\n",
        "        self.classifier = nn.Sequential(\n",
        "            nn.Linear(256 * 7 * 7, 4096),\n",
        "            nn.ReLU(inplace=True),\n",
        "            nn.Dropout(),\n",
        "            nn.Linear(4096, 4096),\n",
        "            nn.ReLU(inplace=True),\n",
        "            nn.Dropout(),\n",
        "            nn.Linear(4096, 10),  # 10 classes for MNIST\n",
        "        )\n",
        "\n",
        "    def forward(self, x):\n",
        "        x = self.features(x)\n",
        "        x = self.avgpool(x)\n",
        "        x = x.view(x.size(0), -1)\n",
        "        x = self.classifier(x)\n",
        "        return x"
      ],
      "metadata": {
        "id": "Q82QqARRPgDl"
      },
      "execution_count": null,
      "outputs": []
    },
    {
      "cell_type": "code",
      "source": [
        "# Load MNIST dataset\n",
        "transform = transforms.Compose([\n",
        "    transforms.Resize((28, 28)),\n",
        "    transforms.ToTensor(),\n",
        "])"
      ],
      "metadata": {
        "id": "mJxYUW0oPgJ4"
      },
      "execution_count": null,
      "outputs": []
    },
    {
      "cell_type": "markdown",
      "source": [
        "Define train dataset dan test dataset"
      ],
      "metadata": {
        "id": "EOHeBMoMQVGn"
      }
    },
    {
      "cell_type": "code",
      "source": [
        "# Train and test dataset\n",
        "train_dataset = torchvision.datasets.MNIST(root=\"./data\", train=True, download=True, transform=transform)\n",
        "test_dataset = torchvision.datasets.MNIST(root=\"./data\", train=False, download=True, transform=transform)"
      ],
      "metadata": {
        "id": "NufD8Z0SPgP5"
      },
      "execution_count": null,
      "outputs": []
    },
    {
      "cell_type": "code",
      "source": [
        "# Train and test loader\n",
        "train_loader = DataLoader(dataset=train_dataset, batch_size=64, shuffle=True)\n",
        "test_loader = DataLoader(dataset=test_dataset, batch_size=64, shuffle=False)"
      ],
      "metadata": {
        "id": "O3qJWCYgPgWE"
      },
      "execution_count": null,
      "outputs": []
    },
    {
      "cell_type": "code",
      "source": [
        "# Initialize model, loss function, and optimizer\n",
        "model = VGGNet().to(device)\n",
        "criterion = nn.CrossEntropyLoss()\n",
        "optimizer = optim.Adam(model.parameters(), lr=0.001)"
      ],
      "metadata": {
        "id": "i-XXgLzfPgc3"
      },
      "execution_count": null,
      "outputs": []
    },
    {
      "cell_type": "code",
      "source": [
        "# Training\n",
        "num_epochs = 5\n",
        "\n",
        "for epoch in range(num_epochs):\n",
        "    model.train()\n",
        "    total_loss = 0.0\n",
        "    for inputs, labels in train_loader:\n",
        "        inputs, labels = inputs.to(device), labels.to(device)\n",
        "\n",
        "        optimizer.zero_grad()\n",
        "\n",
        "        outputs = model(inputs)\n",
        "        loss = criterion(outputs, labels)\n",
        "        loss.backward()\n",
        "        optimizer.step()\n",
        "\n",
        "        total_loss += loss.item()\n",
        "\n",
        "    print(f\"Epoch {epoch + 1}/{num_epochs}, Loss: {total_loss / len(train_loader)}\")"
      ],
      "metadata": {
        "id": "ekaVHr9KPgii"
      },
      "execution_count": null,
      "outputs": []
    },
    {
      "cell_type": "code",
      "source": [
        "# Testing\n",
        "model.eval()\n",
        "total_correct = 0\n",
        "total_samples = 0\n",
        "\n",
        "with torch.no_grad():\n",
        "    for inputs, labels in test_loader:\n",
        "        inputs, labels = inputs.to(device), labels.to(device)\n",
        "\n",
        "        outputs = model(inputs)\n",
        "        _, predictions = torch.max(outputs, 1)\n",
        "\n",
        "        total_correct += (predictions == labels).sum().item()\n",
        "        total_samples += labels.size(0)\n",
        "\n",
        "accuracy = total_correct / total_samples\n",
        "print(f\"Test Accuracy: {accuracy}\")"
      ],
      "metadata": {
        "id": "5JSn3AckQWYD"
      },
      "execution_count": null,
      "outputs": []
    }
  ]
}