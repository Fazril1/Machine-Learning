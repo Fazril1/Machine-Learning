{
  "nbformat": 4,
  "nbformat_minor": 0,
  "metadata": {
    "colab": {
      "provenance": [],
      "authorship_tag": "ABX9TyMiiNDaxX1uiZ2VnWgJIPvJ",
      "include_colab_link": true
    },
    "kernelspec": {
      "name": "python3",
      "display_name": "Python 3"
    },
    "language_info": {
      "name": "python"
    }
  },
  "cells": [
    {
      "cell_type": "markdown",
      "metadata": {
        "id": "view-in-github",
        "colab_type": "text"
      },
      "source": [
        "<a href=\"https://colab.research.google.com/github/Fazril1/Machine-Learning/blob/main/Tugas-Tugas/Tugas%20Minggu%205/Dimensionality%20Reduction%20Iris/Dimensionality%20Reduction%20Iris.ipynb\" target=\"_parent\"><img src=\"https://colab.research.google.com/assets/colab-badge.svg\" alt=\"Open In Colab\"/></a>"
      ]
    },
    {
      "cell_type": "markdown",
      "source": [
        "Ibnu Fazril 1103201241 Tugas ke-5 Dimensionality Reduction"
      ],
      "metadata": {
        "id": "krrnJfIgOfEv"
      }
    },
    {
      "cell_type": "markdown",
      "source": [
        "# Training Iris Classification Using Decision Tree Without Dimensionality Reduction"
      ],
      "metadata": {
        "id": "F_4PBV9mPb1U"
      }
    },
    {
      "cell_type": "code",
      "execution_count": null,
      "metadata": {
        "id": "MZ_hIsx08t64"
      },
      "outputs": [],
      "source": [
        "from sklearn import datasets # Panggil datasets dari daftar pustaka sklearn agar bisa menggunakan dataset iris\n",
        "from sklearn.model_selection import train_test_split # Panggil modul train_test_split dari daftar pustaka sklearn.model_sselection untuk membagi data menjadi 2 yaitu data pengujian dan data pelatihan\n",
        "\n",
        "iris = datasets.load_iris() # Memuat dataset iris"
      ]
    },
    {
      "cell_type": "code",
      "source": [
        "atribut = iris.data # Data fitur\n",
        "label = iris.target # Data target"
      ],
      "metadata": {
        "id": "yBey-hnJNFob"
      },
      "execution_count": null,
      "outputs": []
    },
    {
      "cell_type": "code",
      "source": [
        "# Melihat jumlah baris dalam dataset iris\n",
        "jumlah_baris = len(atribut) # Panjang dari data fitur dimasukkan ke variabel jumlah_baris\n",
        "print(\"Jumlah baris dalam dataset iris:\", jumlah_baris) # Tampilkan Jumlah baris dalam dataset iris"
      ],
      "metadata": {
        "colab": {
          "base_uri": "https://localhost:8080/"
        },
        "id": "YVu766ODNP5V",
        "outputId": "9ce29a16-a876-4037-ed75-693c4cbf74dc"
      },
      "execution_count": null,
      "outputs": [
        {
          "output_type": "stream",
          "name": "stdout",
          "text": [
            "Jumlah baris dalam dataset iris: 150\n"
          ]
        }
      ]
    },
    {
      "cell_type": "code",
      "source": [
        "# bagi dataset menjadi train set dan test set\n",
        "X_train, X_test, y_train, y_test = train_test_split(atribut, label, test_size=0.2, random_state=42) # Bagi dataset menjadi train set dan test set"
      ],
      "metadata": {
        "id": "YC4OI1_DNb0y"
      },
      "execution_count": null,
      "outputs": []
    },
    {
      "cell_type": "code",
      "source": [
        "from sklearn import tree # Panggil modul tree dari daftar pustakaa sklearn agar bisa menggunakan metode decision tree\n",
        "\n",
        "decision_tree = tree.DecisionTreeClassifier() # Menggunakan Metode Decision Tree Classifier\n",
        "model_tanpa_dimensionality_reduction = decision_tree.fit(X_train, y_train) # Memprediksi akurasi price\n",
        "model_tanpa_dimensionality_reduction.score(X_test, y_test) # Tampilkan hasil akurasi"
      ],
      "metadata": {
        "colab": {
          "base_uri": "https://localhost:8080/"
        },
        "id": "SRwpIkSiNtuC",
        "outputId": "f9a3f4d3-d2ce-4808-e9dd-8512428fa398"
      },
      "execution_count": null,
      "outputs": [
        {
          "output_type": "execute_result",
          "data": {
            "text/plain": [
              "1.0"
            ]
          },
          "metadata": {},
          "execution_count": 18
        }
      ]
    },
    {
      "cell_type": "markdown",
      "source": [
        "# Training Iris Classification Using Decision Tree With Dimensionality Reduction"
      ],
      "metadata": {
        "id": "x2fFO0vYPoMp"
      }
    },
    {
      "cell_type": "code",
      "source": [
        "from sklearn.decomposition import PCA # Panggil modul PCA dari daftar pustaka sklearn.decomposition untuk mereduksi data menjadi lebih kecil\n",
        "\n",
        "pca = PCA (n_components=4) # Membuat 4 principal component\n",
        "\n",
        "pca_attributes = pca.fit_transform(X_train) # Mereduksi data X_train\n",
        "\n",
        "pca.explained_variance_ratio_ # Tampilkan array"
      ],
      "metadata": {
        "colab": {
          "base_uri": "https://localhost:8080/"
        },
        "id": "KoVbvf5BOui6",
        "outputId": "d45ae521-1cb9-4edf-aef6-c925c8147fd7"
      },
      "execution_count": null,
      "outputs": [
        {
          "output_type": "execute_result",
          "data": {
            "text/plain": [
              "array([0.91959926, 0.05714377, 0.01838378, 0.00487319])"
            ]
          },
          "metadata": {},
          "execution_count": 19
        }
      ]
    },
    {
      "cell_type": "code",
      "source": [
        "pca = PCA (n_components=2) # Membuat 2 principal component\n",
        "X_train_pca = pca.fit_transform(X_train) # Mereduksi data X_train\n",
        "X_test_pca = pca.fit_transform(X_test) # Mereduksi data X_test"
      ],
      "metadata": {
        "id": "fygoom5zQNhj"
      },
      "execution_count": null,
      "outputs": []
    },
    {
      "cell_type": "code",
      "source": [
        "# Uji akurasi 2 principal component\n",
        "model_dengan_PCA_2_components = decision_tree.fit(X_train_pca, y_train) # Memprediksi akurasi price\n",
        "model_dengan_PCA_2_components.score(X_test_pca, y_test) # Tampilkan hasil akurasi"
      ],
      "metadata": {
        "colab": {
          "base_uri": "https://localhost:8080/"
        },
        "id": "gKRvjRYCQo1Z",
        "outputId": "237845e6-f010-4f4f-e34a-ba68ec806c21"
      },
      "execution_count": null,
      "outputs": [
        {
          "output_type": "execute_result",
          "data": {
            "text/plain": [
              "0.9333333333333333"
            ]
          },
          "metadata": {},
          "execution_count": 21
        }
      ]
    }
  ]
}