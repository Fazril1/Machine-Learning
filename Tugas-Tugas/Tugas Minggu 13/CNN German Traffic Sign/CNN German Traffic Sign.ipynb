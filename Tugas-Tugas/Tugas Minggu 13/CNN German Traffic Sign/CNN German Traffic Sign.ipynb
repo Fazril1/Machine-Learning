{
  "nbformat": 4,
  "nbformat_minor": 0,
  "metadata": {
    "colab": {
      "provenance": [],
      "gpuType": "T4",
      "authorship_tag": "ABX9TyMTu3b+7hpBV8hlWFJz0iYr",
      "include_colab_link": true
    },
    "kernelspec": {
      "name": "python3",
      "display_name": "Python 3"
    },
    "language_info": {
      "name": "python"
    },
    "accelerator": "GPU"
  },
  "cells": [
    {
      "cell_type": "markdown",
      "metadata": {
        "id": "view-in-github",
        "colab_type": "text"
      },
      "source": [
        "<a href=\"https://colab.research.google.com/github/Fazril1/Machine-Learning/blob/main/Tugas-Tugas/Tugas%20Minggu%2013/CNN%20German%20Traffic%20Sign/CNN%20German%20Traffic%20Sign.ipynb\" target=\"_parent\"><img src=\"https://colab.research.google.com/assets/colab-badge.svg\" alt=\"Open In Colab\"/></a>"
      ]
    },
    {
      "cell_type": "markdown",
      "source": [
        "Ibnu Fazril 1103201241 Tugas ke-13 CNN Germany Traffic Sign"
      ],
      "metadata": {
        "id": "lfsxBVCwj0-p"
      }
    },
    {
      "cell_type": "code",
      "execution_count": 17,
      "metadata": {
        "id": "jgb6HsUAiIql"
      },
      "outputs": [],
      "source": [
        "import pandas as pd # Panggil modul pandas untuk membaca dataframe dan menganalisis data\n",
        "import numpy as np # Panggil modul numpy untuk penjumlahan aritmatika\n",
        "from keras.models import Sequential, load_model # Panggil modul Sequential dan load_model dari daftar pustaka keras.models untuk memodelkan dasar jaringan saraf tiruan (neural network) sekuensial, dan untuk memuat model yang sudah disimpan sebelumnya\n",
        "from keras.layers import Conv2D, Dense, Flatten, Dropout, MaxPool2D # Panggil modul Conv2D, Dense, Flatten, Dropout, dan MaxPool2D dari daftar pustaka keras.layers digunakan dalam pembuatan model convolutional neural network (CNN). Ini termasuk lapisan konvolusi (Conv2D), lapisan Dense (lapisan fully connected), lapisan Flatten (untuk meratakan output ke dalam vektor), lapisan Dropout (untuk regularisasi), dan lapisan MaxPooling2D (untuk operasi max pooling)\n",
        "from sklearn.model_selection import train_test_split # Panggil modul train_test_split dari daftar pustaka sklearn.model_selection untuk membagi data menjadi 2 yaitu data pengujian dan data pelatihan\n",
        "import pickle # Panggil modul pickle untuk serialisasi dan deserialisasi objek Python.\n",
        "import seaborn as sns # Panggil modul seaborn untuk melihat hubungan antara variabel dalam data\n",
        "import matplotlib # Panggil modul matplotlib untuk membuat visualisasi data, seperti pembuatan grafik dan plot\n",
        "import matplotlib.pyplot as plt # Panggil modul matplotlib.pyplot untuk memvisualisasikan sebaran data ke dalam grafik"
      ]
    },
    {
      "cell_type": "code",
      "source": [
        "from google.colab import drive # Panggil modul drive dari daftar pustaka google collab untuk mengakses google drive\n",
        "drive.mount('/content/drive') # Lokasi Direktori yang akan diakses"
      ],
      "metadata": {
        "colab": {
          "base_uri": "https://localhost:8080/"
        },
        "id": "xmeVziKSlLwJ",
        "outputId": "cae26fa3-fc4c-4290-a169-1634b8bae87e"
      },
      "execution_count": 18,
      "outputs": [
        {
          "output_type": "stream",
          "name": "stdout",
          "text": [
            "Drive already mounted at /content/drive; to attempt to forcibly remount, call drive.mount(\"/content/drive\", force_remount=True).\n"
          ]
        }
      ]
    },
    {
      "cell_type": "code",
      "source": [
        "training_file = \"/content/drive/MyDrive/Dataset/CNN Germany Traffic Sign/train.p\" # Memuat file train\n",
        "testing_file = \"/content/drive/MyDrive/Dataset/CNN Germany Traffic Sign/test.p\" # Memuat file test\n",
        "\n",
        "with open(training_file, mode='rb') as f: # Membuka file train.p dalam mode read binary ('rb') dan penggunaan with akan membuat file secara otomatis ditutup setelah blok dieksekussi\n",
        "  train = pickle.load(f) # Membaca file train.p\n",
        "\n",
        "with open(testing_file, mode='rb') as f: # Membuka file test.p dalam mode read binary ('rb') dan penggunaan with akan membuat file secara otomatis ditutup setelah blok dieksekussi\n",
        "  test = pickle.load(f) # Membaca file test.p\n",
        "\n",
        "print(\"Data loaded\") # Tampilkan tulisan Data loaded"
      ],
      "metadata": {
        "colab": {
          "base_uri": "https://localhost:8080/"
        },
        "id": "oRQ8HmsimCGn",
        "outputId": "7193e42b-c9a6-41d6-83b6-3e741b4480d3"
      },
      "execution_count": 19,
      "outputs": [
        {
          "output_type": "stream",
          "name": "stdout",
          "text": [
            "Data loaded\n"
          ]
        }
      ]
    },
    {
      "cell_type": "code",
      "source": [
        "file_path = '/content/drive/MyDrive/Dataset/CNN Germany Traffic Sign/signname.csv' # Lokasi file dataset di Google Drive\n",
        "sign_name_df = pd.read_csv(file_path) # Membaca dataset CSV ke dalam DataFrame dan merubah format data dengan encoding agar data bisa diuraikan\n",
        "SIGN_NAMES = sign_name_df.SignName.values # Membuat array SIGN_NAMES yang berisi nilai dari kolom 'SignName' di dalam DataFrame\n",
        "sign_name_df.set_index('ClassId', inplace=True) # Mengatur indeks DataFrame menjadi kolom 'ClassId'\n",
        "sign_name_df.head(10) # Membaca 10 baris pertama dari dataset"
      ],
      "metadata": {
        "colab": {
          "base_uri": "https://localhost:8080/",
          "height": 394
        },
        "id": "EiAv7aZvm8Fb",
        "outputId": "dbb031b3-d946-42c8-e4bd-c340a2fabd02"
      },
      "execution_count": 20,
      "outputs": [
        {
          "output_type": "execute_result",
          "data": {
            "text/plain": [
              "                            SignName\n",
              "ClassId                             \n",
              "0               Speed limit (20km/h)\n",
              "1               Speed limit (30km/h)\n",
              "2               Speed limit (50km/h)\n",
              "3               Speed limit (60km/h)\n",
              "4               Speed limit (70km/h)\n",
              "5               Speed limit (80km/h)\n",
              "6        End of speed limit (80km/h)\n",
              "7              Speed limit (100km/h)\n",
              "8              Speed limit (120km/h)\n",
              "9                         No passing"
            ],
            "text/html": [
              "\n",
              "  <div id=\"df-496cc6c3-9a5c-4e5f-89ae-03db9e0b41f2\" class=\"colab-df-container\">\n",
              "    <div>\n",
              "<style scoped>\n",
              "    .dataframe tbody tr th:only-of-type {\n",
              "        vertical-align: middle;\n",
              "    }\n",
              "\n",
              "    .dataframe tbody tr th {\n",
              "        vertical-align: top;\n",
              "    }\n",
              "\n",
              "    .dataframe thead th {\n",
              "        text-align: right;\n",
              "    }\n",
              "</style>\n",
              "<table border=\"1\" class=\"dataframe\">\n",
              "  <thead>\n",
              "    <tr style=\"text-align: right;\">\n",
              "      <th></th>\n",
              "      <th>SignName</th>\n",
              "    </tr>\n",
              "    <tr>\n",
              "      <th>ClassId</th>\n",
              "      <th></th>\n",
              "    </tr>\n",
              "  </thead>\n",
              "  <tbody>\n",
              "    <tr>\n",
              "      <th>0</th>\n",
              "      <td>Speed limit (20km/h)</td>\n",
              "    </tr>\n",
              "    <tr>\n",
              "      <th>1</th>\n",
              "      <td>Speed limit (30km/h)</td>\n",
              "    </tr>\n",
              "    <tr>\n",
              "      <th>2</th>\n",
              "      <td>Speed limit (50km/h)</td>\n",
              "    </tr>\n",
              "    <tr>\n",
              "      <th>3</th>\n",
              "      <td>Speed limit (60km/h)</td>\n",
              "    </tr>\n",
              "    <tr>\n",
              "      <th>4</th>\n",
              "      <td>Speed limit (70km/h)</td>\n",
              "    </tr>\n",
              "    <tr>\n",
              "      <th>5</th>\n",
              "      <td>Speed limit (80km/h)</td>\n",
              "    </tr>\n",
              "    <tr>\n",
              "      <th>6</th>\n",
              "      <td>End of speed limit (80km/h)</td>\n",
              "    </tr>\n",
              "    <tr>\n",
              "      <th>7</th>\n",
              "      <td>Speed limit (100km/h)</td>\n",
              "    </tr>\n",
              "    <tr>\n",
              "      <th>8</th>\n",
              "      <td>Speed limit (120km/h)</td>\n",
              "    </tr>\n",
              "    <tr>\n",
              "      <th>9</th>\n",
              "      <td>No passing</td>\n",
              "    </tr>\n",
              "  </tbody>\n",
              "</table>\n",
              "</div>\n",
              "    <div class=\"colab-df-buttons\">\n",
              "\n",
              "  <div class=\"colab-df-container\">\n",
              "    <button class=\"colab-df-convert\" onclick=\"convertToInteractive('df-496cc6c3-9a5c-4e5f-89ae-03db9e0b41f2')\"\n",
              "            title=\"Convert this dataframe to an interactive table.\"\n",
              "            style=\"display:none;\">\n",
              "\n",
              "  <svg xmlns=\"http://www.w3.org/2000/svg\" height=\"24px\" viewBox=\"0 -960 960 960\">\n",
              "    <path d=\"M120-120v-720h720v720H120Zm60-500h600v-160H180v160Zm220 220h160v-160H400v160Zm0 220h160v-160H400v160ZM180-400h160v-160H180v160Zm440 0h160v-160H620v160ZM180-180h160v-160H180v160Zm440 0h160v-160H620v160Z\"/>\n",
              "  </svg>\n",
              "    </button>\n",
              "\n",
              "  <style>\n",
              "    .colab-df-container {\n",
              "      display:flex;\n",
              "      gap: 12px;\n",
              "    }\n",
              "\n",
              "    .colab-df-convert {\n",
              "      background-color: #E8F0FE;\n",
              "      border: none;\n",
              "      border-radius: 50%;\n",
              "      cursor: pointer;\n",
              "      display: none;\n",
              "      fill: #1967D2;\n",
              "      height: 32px;\n",
              "      padding: 0 0 0 0;\n",
              "      width: 32px;\n",
              "    }\n",
              "\n",
              "    .colab-df-convert:hover {\n",
              "      background-color: #E2EBFA;\n",
              "      box-shadow: 0px 1px 2px rgba(60, 64, 67, 0.3), 0px 1px 3px 1px rgba(60, 64, 67, 0.15);\n",
              "      fill: #174EA6;\n",
              "    }\n",
              "\n",
              "    .colab-df-buttons div {\n",
              "      margin-bottom: 4px;\n",
              "    }\n",
              "\n",
              "    [theme=dark] .colab-df-convert {\n",
              "      background-color: #3B4455;\n",
              "      fill: #D2E3FC;\n",
              "    }\n",
              "\n",
              "    [theme=dark] .colab-df-convert:hover {\n",
              "      background-color: #434B5C;\n",
              "      box-shadow: 0px 1px 3px 1px rgba(0, 0, 0, 0.15);\n",
              "      filter: drop-shadow(0px 1px 2px rgba(0, 0, 0, 0.3));\n",
              "      fill: #FFFFFF;\n",
              "    }\n",
              "  </style>\n",
              "\n",
              "    <script>\n",
              "      const buttonEl =\n",
              "        document.querySelector('#df-496cc6c3-9a5c-4e5f-89ae-03db9e0b41f2 button.colab-df-convert');\n",
              "      buttonEl.style.display =\n",
              "        google.colab.kernel.accessAllowed ? 'block' : 'none';\n",
              "\n",
              "      async function convertToInteractive(key) {\n",
              "        const element = document.querySelector('#df-496cc6c3-9a5c-4e5f-89ae-03db9e0b41f2');\n",
              "        const dataTable =\n",
              "          await google.colab.kernel.invokeFunction('convertToInteractive',\n",
              "                                                    [key], {});\n",
              "        if (!dataTable) return;\n",
              "\n",
              "        const docLinkHtml = 'Like what you see? Visit the ' +\n",
              "          '<a target=\"_blank\" href=https://colab.research.google.com/notebooks/data_table.ipynb>data table notebook</a>'\n",
              "          + ' to learn more about interactive tables.';\n",
              "        element.innerHTML = '';\n",
              "        dataTable['output_type'] = 'display_data';\n",
              "        await google.colab.output.renderOutput(dataTable, element);\n",
              "        const docLink = document.createElement('div');\n",
              "        docLink.innerHTML = docLinkHtml;\n",
              "        element.appendChild(docLink);\n",
              "      }\n",
              "    </script>\n",
              "  </div>\n",
              "\n",
              "\n",
              "<div id=\"df-8182f7f7-a925-4409-8da1-99bc50ee4d79\">\n",
              "  <button class=\"colab-df-quickchart\" onclick=\"quickchart('df-8182f7f7-a925-4409-8da1-99bc50ee4d79')\"\n",
              "            title=\"Suggest charts\"\n",
              "            style=\"display:none;\">\n",
              "\n",
              "<svg xmlns=\"http://www.w3.org/2000/svg\" height=\"24px\"viewBox=\"0 0 24 24\"\n",
              "     width=\"24px\">\n",
              "    <g>\n",
              "        <path d=\"M19 3H5c-1.1 0-2 .9-2 2v14c0 1.1.9 2 2 2h14c1.1 0 2-.9 2-2V5c0-1.1-.9-2-2-2zM9 17H7v-7h2v7zm4 0h-2V7h2v10zm4 0h-2v-4h2v4z\"/>\n",
              "    </g>\n",
              "</svg>\n",
              "  </button>\n",
              "\n",
              "<style>\n",
              "  .colab-df-quickchart {\n",
              "      --bg-color: #E8F0FE;\n",
              "      --fill-color: #1967D2;\n",
              "      --hover-bg-color: #E2EBFA;\n",
              "      --hover-fill-color: #174EA6;\n",
              "      --disabled-fill-color: #AAA;\n",
              "      --disabled-bg-color: #DDD;\n",
              "  }\n",
              "\n",
              "  [theme=dark] .colab-df-quickchart {\n",
              "      --bg-color: #3B4455;\n",
              "      --fill-color: #D2E3FC;\n",
              "      --hover-bg-color: #434B5C;\n",
              "      --hover-fill-color: #FFFFFF;\n",
              "      --disabled-bg-color: #3B4455;\n",
              "      --disabled-fill-color: #666;\n",
              "  }\n",
              "\n",
              "  .colab-df-quickchart {\n",
              "    background-color: var(--bg-color);\n",
              "    border: none;\n",
              "    border-radius: 50%;\n",
              "    cursor: pointer;\n",
              "    display: none;\n",
              "    fill: var(--fill-color);\n",
              "    height: 32px;\n",
              "    padding: 0;\n",
              "    width: 32px;\n",
              "  }\n",
              "\n",
              "  .colab-df-quickchart:hover {\n",
              "    background-color: var(--hover-bg-color);\n",
              "    box-shadow: 0 1px 2px rgba(60, 64, 67, 0.3), 0 1px 3px 1px rgba(60, 64, 67, 0.15);\n",
              "    fill: var(--button-hover-fill-color);\n",
              "  }\n",
              "\n",
              "  .colab-df-quickchart-complete:disabled,\n",
              "  .colab-df-quickchart-complete:disabled:hover {\n",
              "    background-color: var(--disabled-bg-color);\n",
              "    fill: var(--disabled-fill-color);\n",
              "    box-shadow: none;\n",
              "  }\n",
              "\n",
              "  .colab-df-spinner {\n",
              "    border: 2px solid var(--fill-color);\n",
              "    border-color: transparent;\n",
              "    border-bottom-color: var(--fill-color);\n",
              "    animation:\n",
              "      spin 1s steps(1) infinite;\n",
              "  }\n",
              "\n",
              "  @keyframes spin {\n",
              "    0% {\n",
              "      border-color: transparent;\n",
              "      border-bottom-color: var(--fill-color);\n",
              "      border-left-color: var(--fill-color);\n",
              "    }\n",
              "    20% {\n",
              "      border-color: transparent;\n",
              "      border-left-color: var(--fill-color);\n",
              "      border-top-color: var(--fill-color);\n",
              "    }\n",
              "    30% {\n",
              "      border-color: transparent;\n",
              "      border-left-color: var(--fill-color);\n",
              "      border-top-color: var(--fill-color);\n",
              "      border-right-color: var(--fill-color);\n",
              "    }\n",
              "    40% {\n",
              "      border-color: transparent;\n",
              "      border-right-color: var(--fill-color);\n",
              "      border-top-color: var(--fill-color);\n",
              "    }\n",
              "    60% {\n",
              "      border-color: transparent;\n",
              "      border-right-color: var(--fill-color);\n",
              "    }\n",
              "    80% {\n",
              "      border-color: transparent;\n",
              "      border-right-color: var(--fill-color);\n",
              "      border-bottom-color: var(--fill-color);\n",
              "    }\n",
              "    90% {\n",
              "      border-color: transparent;\n",
              "      border-bottom-color: var(--fill-color);\n",
              "    }\n",
              "  }\n",
              "</style>\n",
              "\n",
              "  <script>\n",
              "    async function quickchart(key) {\n",
              "      const quickchartButtonEl =\n",
              "        document.querySelector('#' + key + ' button');\n",
              "      quickchartButtonEl.disabled = true;  // To prevent multiple clicks.\n",
              "      quickchartButtonEl.classList.add('colab-df-spinner');\n",
              "      try {\n",
              "        const charts = await google.colab.kernel.invokeFunction(\n",
              "            'suggestCharts', [key], {});\n",
              "      } catch (error) {\n",
              "        console.error('Error during call to suggestCharts:', error);\n",
              "      }\n",
              "      quickchartButtonEl.classList.remove('colab-df-spinner');\n",
              "      quickchartButtonEl.classList.add('colab-df-quickchart-complete');\n",
              "    }\n",
              "    (() => {\n",
              "      let quickchartButtonEl =\n",
              "        document.querySelector('#df-8182f7f7-a925-4409-8da1-99bc50ee4d79 button');\n",
              "      quickchartButtonEl.style.display =\n",
              "        google.colab.kernel.accessAllowed ? 'block' : 'none';\n",
              "    })();\n",
              "  </script>\n",
              "</div>\n",
              "    </div>\n",
              "  </div>\n"
            ]
          },
          "metadata": {},
          "execution_count": 20
        }
      ]
    },
    {
      "cell_type": "code",
      "source": [
        "X, y = train['features'], train['labels'] # Mengassign nilai dari kolom 'features' ke variabel X_train dan nilai dari kolom 'labels' ke variabel y_train\n"
      ],
      "metadata": {
        "id": "l2lTOBQSoL04"
      },
      "execution_count": 21,
      "outputs": []
    },
    {
      "cell_type": "code",
      "source": [
        "data = np.array(X) # Mengonversi data gambar dari DataFrame (X) menjadi numpy array\n",
        "labels = np.array(y) # Mengonversi label dari DataFrame (y) menjadi numpy array\n",
        "print(data.shape, labels.shape) # Tampilkan data"
      ],
      "metadata": {
        "colab": {
          "base_uri": "https://localhost:8080/"
        },
        "id": "MjUXNNyBpXzP",
        "outputId": "5f72b3cb-8f99-4b4b-efbf-bb7ec502cf3b"
      },
      "execution_count": 22,
      "outputs": [
        {
          "output_type": "stream",
          "name": "stdout",
          "text": [
            "(34799, 32, 32, 3) (34799,)\n"
          ]
        }
      ]
    },
    {
      "cell_type": "code",
      "source": [
        "X_test, y_test = test['features'], test['labels'] # Mengassign nilai dari kolom 'features' ke variabel X_test dan nilai dari kolom 'labels' ke variabel y_test"
      ],
      "metadata": {
        "id": "H3oOPnS0rX6Y"
      },
      "execution_count": 39,
      "outputs": []
    },
    {
      "cell_type": "code",
      "source": [
        "X_test = np.array(X_test) # Mengonversi data gambar dari DataFrame (X_test) menjadi numpy array\n",
        "y_test = np.array(y_test) # Mengonversi label dari DataFrame (y_test) menjadi numpy array\n",
        "print(X_test.shape, y_test.shape) # Tampilkan data"
      ],
      "metadata": {
        "colab": {
          "base_uri": "https://localhost:8080/"
        },
        "id": "YPyGqZlKrnhC",
        "outputId": "c83a3609-86f3-45ec-d4d0-e818721c00b9"
      },
      "execution_count": 24,
      "outputs": [
        {
          "output_type": "stream",
          "name": "stdout",
          "text": [
            "(12630, 32, 32, 3) (12630,)\n"
          ]
        }
      ]
    },
    {
      "cell_type": "code",
      "source": [
        "X_train, X_val, y_train, y_val = train_test_split(X, y, test_size=0.1, random_state=0) # Membagi dataset menjadi data latih dan data uji\n",
        "print(X_train.shape, X_val.shape, y_train.shape, y_val.shape) # Tampilkan data"
      ],
      "metadata": {
        "colab": {
          "base_uri": "https://localhost:8080/"
        },
        "id": "H5Rslh_ssLky",
        "outputId": "102bbedb-91bd-4ac9-9a7f-6089d37ddeda"
      },
      "execution_count": 25,
      "outputs": [
        {
          "output_type": "stream",
          "name": "stdout",
          "text": [
            "(31319, 32, 32, 3) (3480, 32, 32, 3) (31319,) (3480,)\n"
          ]
        }
      ]
    },
    {
      "cell_type": "code",
      "source": [
        "n_labels = np.unique(y_train).size # Anda menghitung jumlah label unik dalam array y_train menggunakan fungsi np.unique dari NumPy\n",
        "\n",
        "def hist_data(y_data, title=None, ax=None, **kwargs): # Untuk membuat histogram dari data y_data pada subplot yang mungkin sudah ada (ax). Beberapa argumen opsional juga diterima, seperti title untuk judul subplot dan **kwargs yang dapat digunakan untuk meneruskan argumen tambahan ke fungsi plt.hist()\n",
        "    if not ax: # Jika tidak ada ax yang didefinisikan\n",
        "        fig = plt.figure() # Buat plot figure\n",
        "        ax = fig.add_subplot(111) # Subplot baru akan ditambahkan dan menunjukkan bahwa ini adalah subplot tunggal dalam grid 1x1\n",
        "    ax.hist(y_data, np.arange(-0.5, n_labels+1.5), stacked=True, **kwargs) # Untuk membuat histogram. Argumen y_data adalah data yang digunakan untuk membuat histogram\n",
        "    ax.set_xlim(-0.5, n_labels-0.5) # Untuk menetapkan batas sumbu x pada subplot\n",
        "    if 'label' in kwargs: # jika kolom label terdapat dalam kwargs\n",
        "        ax.legend() # Tampilkan panduan figure\n",
        "    if title: # Jika judul sudah didefisikan\n",
        "        ax.set_title(title) # Untuk mengatur judul subplot dengan nilai yang ada di dalam variabel title\n",
        "\n",
        "fig, ax = plt.subplots(1, 3, figsize=(20, 5)) # Membuat figure dengan ukuran lebar 20 inci dan tinggi 5 inci dengan subplot 1 baris dan 3 kolom\n",
        "hist_data(y_train, title='Distribusi kelas pada data training', ax=ax[0]) # Menampilkan histogram data y_train dengan judul tersebut dan mengisi figure o dan di subplot baris ke-1 kolom ke-1\n",
        "hist_data(y_val, title='Distribusi kelas pada data validasi', ax=ax[1], color='black') # Menampilkan histogram data y_val dengan judul tersebut dan mengisi figure 1 dan di subplot baris ke-1 kolom ke-2 dengan warna hitam\n",
        "hist_data(y_test, title='Distribusi kelas pada data test', ax=ax[2], color='grey') # Menampilkan histogram data y_test dengan judul tersebut dan mengisi figure 2 dan di subplot baris ke-1 kolom ke-3 dengan warna abu-abu"
      ],
      "metadata": {
        "colab": {
          "base_uri": "https://localhost:8080/",
          "height": 459
        },
        "id": "hDJdVDF3ss98",
        "outputId": "6ac1ab73-9903-4d4c-865f-f97011f4fcef"
      },
      "execution_count": 26,
      "outputs": [
        {
          "output_type": "display_data",
          "data": {
            "text/plain": [
              "<Figure size 2000x500 with 3 Axes>"
            ],
            "image/png": "[encoded data removed]"
          },
          "metadata": {}
        }
      ]
    },
    {
      "cell_type": "code",
      "source": [
        "from tensorflow.keras.utils import to_categorical # Panggil modul to_categorical dari daftar pustaka tensorflow.keras.utils untuk mengonversi label kelas menjadi representasi one-hot encoding\n",
        "\n",
        "y_train = to_categorical(y_train, 43) # Mengonversi label pelatihan (y_train) menjadi representasi one-hot encoding\n",
        "y_val= to_categorical(y_val, 43) # Mengonversi label pelatihan (y_val) menjadi representasi one-hot encoding"
      ],
      "metadata": {
        "id": "jHwXv6SUthYC"
      },
      "execution_count": 27,
      "outputs": []
    },
    {
      "cell_type": "code",
      "source": [
        "import tensorflow as tf # Panggil modul tensorflow untuk pengembangan dan pelatihan model\n",
        "\n",
        "class myCallback(tf.keras.callbacks.Callback): # Membuat kelas myCallback\n",
        "    def on_epoch_end(self, epoch, logs={}): # Adalah salah satu metode yang dapat Anda override (timpa) ketika Anda membuat kelas turunan dari tf.keras.callbacks.Callback\n",
        "         if(logs.get('accuracy') > 0.96): # Untuk menghentikan pelatihan jika akurasi pada akhir epoch melebihi 96%\n",
        "              print(\"\\nAkurasi telah mencapai >96%. Stop training!\") # Tampilkan tulisan\n",
        "              self.model.stop_training = True # Fungsi untuk menghentikan pelatihan\n",
        "callbacks = myCallback() # Mengindikasikan bahwa instance callback yang telah Anda buat (myCallback()) akan digunakan selama proses pelatihan model"
      ],
      "metadata": {
        "id": "SrLJy4fvvkWN"
      },
      "execution_count": 30,
      "outputs": []
    },
    {
      "cell_type": "code",
      "source": [
        "model = Sequential() # Digunakan untuk membuat objek model sequential menggunakan Keras\n",
        "model.add(Conv2D(filters=32, kernel_size=(5,5), activation='relu', input_shape=X_train.shape[1:])) # menambahkan lapisan konvolusi (Convolutional Layer) ke dalam model\n",
        "model.add(Conv2D(filters=32, kernel_size=(5,5), activation='relu')) # Menambahkan lapisan konvolusi (Convolutional Layer) ke dalam model\n",
        "model.add(MaxPool2D(pool_size=(2, 2))) # Untuk mereduksi dimensi spasial dari representasi gambar dan mengurangi jumlah parameter yang akan diproses\n",
        "model.add(Dropout(rate=0.25)) # Untuk mengurangi overfitting\n",
        "\n",
        "model.add(Conv2D(filters=64, kernel_size=(3, 3), activation='relu')) # Menambahkan lapisan konvolusi (Convolutional Layer) ke dalam model\n",
        "model.add(Conv2D(filters=64, kernel_size=(3, 3), activation='relu')) # Menambahkan lapisan konvolusi (Convolutional Layer) ke dalam model\n",
        "model.add(MaxPool2D(pool_size=(2, 2))) # Untuk mereduksi dimensi spasial dari representasi gambar dan mengurangi jumlah parameter yang akan diproses\n",
        "model.add(Dropout(rate=0.25)) # Untuk mengurangi overfitting\n",
        "\n",
        "model.add(Flatten()) # Mengubah vektor menjadi satu dimensi\n",
        "model.add(Dense(256, activation='relu')) # Untuk menghubungkan setiap neuron dengan setiap neuron di lapisan sebelumnya dan sesudahnya, menciptakan hubungan penuh atau fully connected antara lapisan tersebut\n",
        "model.add(Dropout(0.5)) # Untuk mengurangi overfitting\n",
        "model.add(Dense(43, activation='softmax')) # Untuk menghubungkan setiap neuron dengan setiap neuron di lapisan sebelumnya dan sesudahnya, menciptakan hubungan penuh atau fully connected antara lapisan tersebut"
      ],
      "metadata": {
        "id": "noM8dC5_vkaf"
      },
      "execution_count": 31,
      "outputs": []
    },
    {
      "cell_type": "code",
      "source": [
        "model.summary() # Ringkasan isi model"
      ],
      "metadata": {
        "colab": {
          "base_uri": "https://localhost:8080/"
        },
        "id": "ZYs5VgT8xCp9",
        "outputId": "72f86214-f87c-4a4f-ef3c-54fd25c50251"
      },
      "execution_count": 32,
      "outputs": [
        {
          "output_type": "stream",
          "name": "stdout",
          "text": [
            "Model: \"sequential\"\n",
            "_________________________________________________________________\n",
            " Layer (type)                Output Shape              Param #   \n",
            "=================================================================\n",
            " conv2d (Conv2D)             (None, 28, 28, 32)        2432      \n",
            "                                                                 \n",
            " conv2d_1 (Conv2D)           (None, 24, 24, 32)        25632     \n",
            "                                                                 \n",
            " max_pooling2d (MaxPooling2  (None, 12, 12, 32)        0         \n",
            " D)                                                              \n",
            "                                                                 \n",
            " dropout (Dropout)           (None, 12, 12, 32)        0         \n",
            "                                                                 \n",
            " conv2d_2 (Conv2D)           (None, 10, 10, 64)        18496     \n",
            "                                                                 \n",
            " conv2d_3 (Conv2D)           (None, 8, 8, 64)          36928     \n",
            "                                                                 \n",
            " max_pooling2d_1 (MaxPoolin  (None, 4, 4, 64)          0         \n",
            " g2D)                                                            \n",
            "                                                                 \n",
            " dropout_1 (Dropout)         (None, 4, 4, 64)          0         \n",
            "                                                                 \n",
            " flatten (Flatten)           (None, 1024)              0         \n",
            "                                                                 \n",
            " dense (Dense)               (None, 256)               262400    \n",
            "                                                                 \n",
            " dropout_2 (Dropout)         (None, 256)               0         \n",
            "                                                                 \n",
            " dense_1 (Dense)             (None, 43)                11051     \n",
            "                                                                 \n",
            "=================================================================\n",
            "Total params: 356939 (1.36 MB)\n",
            "Trainable params: 356939 (1.36 MB)\n",
            "Non-trainable params: 0 (0.00 Byte)\n",
            "_________________________________________________________________\n"
          ]
        }
      ]
    },
    {
      "cell_type": "code",
      "source": [
        "model.compile(loss='categorical_crossentropy', optimizer='adam', metrics=['accuracy']) # Menentukan fungsi loss, optimizer, dan metriks evaluasi yang akan dihitung selama pelatihan"
      ],
      "metadata": {
        "id": "eCVfTx9Ixq2k"
      },
      "execution_count": 33,
      "outputs": []
    },
    {
      "cell_type": "code",
      "source": [
        "epochs = 25 #  Menentukan jumlah epoch atau iterasi pelatihan\n",
        "history = model.fit(X_train, y_train, batch_size=32, epochs=epochs, validation_data=(X_val, y_val), callbacks=[callbacks]) # Memprediksi model dari data pelatihan dan label pelatihan, model akan diperbarui setiap kali 32 sampel telah diproses, melakukan 25 kali iterasi pelatihan, data validasi yang digunakan untuk mengukur performa model pada setiap epoch, dan Callbacks dapat digunakan untuk memonitor proses pelatihan dan menghentikannya lebih awal jika diperlukan"
      ],
      "metadata": {
        "colab": {
          "base_uri": "https://localhost:8080/"
        },
        "id": "u6hJm5LYxq5F",
        "outputId": "4d0c62cf-183a-44aa-f91b-d5e3cdc72511"
      },
      "execution_count": 34,
      "outputs": [
        {
          "output_type": "stream",
          "name": "stdout",
          "text": [
            "Epoch 1/25\n",
            "979/979 [==============================] - 14s 8ms/step - loss: 1.9632 - accuracy: 0.5036 - val_loss: 0.4830 - val_accuracy: 0.8779\n",
            "Epoch 2/25\n",
            "979/979 [==============================] - 6s 6ms/step - loss: 0.7431 - accuracy: 0.7803 - val_loss: 0.2820 - val_accuracy: 0.9224\n",
            "Epoch 3/25\n",
            "979/979 [==============================] - 6s 6ms/step - loss: 0.5600 - accuracy: 0.8334 - val_loss: 0.2378 - val_accuracy: 0.9448\n",
            "Epoch 4/25\n",
            "979/979 [==============================] - 5s 5ms/step - loss: 0.4540 - accuracy: 0.8619 - val_loss: 0.1711 - val_accuracy: 0.9509\n",
            "Epoch 5/25\n",
            "979/979 [==============================] - 5s 5ms/step - loss: 0.3525 - accuracy: 0.8947 - val_loss: 0.1294 - val_accuracy: 0.9606\n",
            "Epoch 6/25\n",
            "979/979 [==============================] - 6s 6ms/step - loss: 0.3108 - accuracy: 0.9057 - val_loss: 0.1306 - val_accuracy: 0.9664\n",
            "Epoch 7/25\n",
            "979/979 [==============================] - 5s 5ms/step - loss: 0.2781 - accuracy: 0.9165 - val_loss: 0.1125 - val_accuracy: 0.9690\n",
            "Epoch 8/25\n",
            "979/979 [==============================] - 6s 6ms/step - loss: 0.2627 - accuracy: 0.9204 - val_loss: 0.2724 - val_accuracy: 0.9167\n",
            "Epoch 9/25\n",
            "979/979 [==============================] - 6s 6ms/step - loss: 0.2485 - accuracy: 0.9244 - val_loss: 0.0817 - val_accuracy: 0.9793\n",
            "Epoch 10/25\n",
            "979/979 [==============================] - 5s 5ms/step - loss: 0.2407 - accuracy: 0.9263 - val_loss: 0.1192 - val_accuracy: 0.9601\n",
            "Epoch 11/25\n",
            "979/979 [==============================] - 8s 9ms/step - loss: 0.2316 - accuracy: 0.9319 - val_loss: 0.0739 - val_accuracy: 0.9807\n",
            "Epoch 12/25\n",
            "979/979 [==============================] - 8s 8ms/step - loss: 0.2099 - accuracy: 0.9367 - val_loss: 0.0824 - val_accuracy: 0.9761\n",
            "Epoch 13/25\n",
            "979/979 [==============================] - 6s 6ms/step - loss: 0.2196 - accuracy: 0.9347 - val_loss: 0.0706 - val_accuracy: 0.9822\n",
            "Epoch 14/25\n",
            "979/979 [==============================] - 5s 5ms/step - loss: 0.2113 - accuracy: 0.9378 - val_loss: 0.0896 - val_accuracy: 0.9739\n",
            "Epoch 15/25\n",
            "979/979 [==============================] - 6s 6ms/step - loss: 0.2284 - accuracy: 0.9343 - val_loss: 0.0631 - val_accuracy: 0.9833\n",
            "Epoch 16/25\n",
            "979/979 [==============================] - 6s 6ms/step - loss: 0.2143 - accuracy: 0.9368 - val_loss: 0.0622 - val_accuracy: 0.9856\n",
            "Epoch 17/25\n",
            "979/979 [==============================] - 5s 5ms/step - loss: 0.2241 - accuracy: 0.9361 - val_loss: 0.0703 - val_accuracy: 0.9810\n",
            "Epoch 18/25\n",
            "979/979 [==============================] - 6s 6ms/step - loss: 0.2034 - accuracy: 0.9420 - val_loss: 0.0596 - val_accuracy: 0.9851\n",
            "Epoch 19/25\n",
            "979/979 [==============================] - 5s 5ms/step - loss: 0.1974 - accuracy: 0.9449 - val_loss: 0.0822 - val_accuracy: 0.9761\n",
            "Epoch 20/25\n",
            "979/979 [==============================] - 5s 5ms/step - loss: 0.2002 - accuracy: 0.9424 - val_loss: 0.0657 - val_accuracy: 0.9833\n",
            "Epoch 21/25\n",
            "979/979 [==============================] - 6s 6ms/step - loss: 0.4326 - accuracy: 0.8911 - val_loss: 0.1010 - val_accuracy: 0.9767\n",
            "Epoch 22/25\n",
            "979/979 [==============================] - 5s 5ms/step - loss: 0.2128 - accuracy: 0.9365 - val_loss: 0.0780 - val_accuracy: 0.9810\n",
            "Epoch 23/25\n",
            "979/979 [==============================] - 5s 5ms/step - loss: 0.1700 - accuracy: 0.9504 - val_loss: 0.0620 - val_accuracy: 0.9836\n",
            "Epoch 24/25\n",
            "979/979 [==============================] - 6s 6ms/step - loss: 0.1726 - accuracy: 0.9502 - val_loss: 0.0628 - val_accuracy: 0.9819\n",
            "Epoch 25/25\n",
            "979/979 [==============================] - 5s 5ms/step - loss: 0.2017 - accuracy: 0.9423 - val_loss: 0.0698 - val_accuracy: 0.9833\n"
          ]
        }
      ]
    },
    {
      "cell_type": "code",
      "source": [
        "model.save(\"my_model.h5\") # Digunakan untuk menyimpan model ke dalam file dengan format HDF5"
      ],
      "metadata": {
        "colab": {
          "base_uri": "https://localhost:8080/"
        },
        "id": "RRHc_uX4zKGO",
        "outputId": "7c1ef3f4-bfdb-4bfb-95b6-b5532966f728"
      },
      "execution_count": 35,
      "outputs": [
        {
          "output_type": "stream",
          "name": "stderr",
          "text": [
            "/usr/local/lib/python3.10/dist-packages/keras/src/engine/training.py:3103: UserWarning: You are saving your model as an HDF5 file via `model.save()`. This file format is considered legacy. We recommend using instead the native Keras format, e.g. `model.save('my_model.keras')`.\n",
            "  saving_api.save_model(\n"
          ]
        }
      ]
    },
    {
      "cell_type": "code",
      "source": [
        "# Plotting graphs for accuracy\n",
        "plt.figure(0) # Membuat suatu gambar atau objek gambar dengan nomor gambar (figure number) 0\n",
        "plt.plot(history.history['accuracy'], label='training accuracy') # Menambahkan plot garis untuk 'accuracy' pada set pelatihan\n",
        "plt.plot(history.history['val_accuracy'], label='val accuracy') # Menambahkan plot garis untuk 'val_accuracy' pada set pelatihan\n",
        "plt.title('Accuracy') # Menulis judul dengan nama Accuracy\n",
        "plt.xlabel('epochs') # Menulis label 'x' (yang di bawah) dengan nama epochs\n",
        "plt.ylabel('accuracy') # Menulis label 'y' (yang di kiri) dengan nama accuracy\n",
        "plt.legend() # Tampilkan panduan plot\n",
        "plt.show() # Tampilkan figure\n",
        "\n",
        "# Plotting graphs for loss\n",
        "plt.figure(1) # Membuat suatu gambar atau objek gambar dengan nomor gambar (figure number) 1\n",
        "plt.plot(history.history['loss'], label='training loss') # Menambahkan plot garis untuk loss pada set pelatihan\n",
        "plt.plot(history.history['val_loss'], label='val loss') # Menambahkan plot garis untuk val_loss pada set pelatihan\n",
        "plt.title('Loss') # Menulis judul dengan nama Loss\n",
        "plt.xlabel('epochs') # Menulis label 'x' (yang di bawah) dengan nama epochs\n",
        "plt.ylabel('loss') # Menulis label 'y' (yang di kiri) dengan nama loss\n",
        "plt.legend() # Tampilkan panduan plot\n",
        "plt.show() # Tampilkan figure"
      ],
      "metadata": {
        "colab": {
          "base_uri": "https://localhost:8080/",
          "height": 927
        },
        "id": "geX8XBEzzKI5",
        "outputId": "c159dc8f-668c-4288-f4e5-c192d2b5399d"
      },
      "execution_count": 36,
      "outputs": [
        {
          "output_type": "display_data",
          "data": {
            "text/plain": [
              "<Figure size 640x480 with 1 Axes>"
            ],
            "image/png": "[encoded data removed]"
          },
          "metadata": {}
        },
        {
          "output_type": "display_data",
          "data": {
            "text/plain": [
              "<Figure size 640x480 with 1 Axes>"
            ],
            "image/png": "[encoded data removed]"
          },
          "metadata": {}
        }
      ]
    },
    {
      "cell_type": "code",
      "source": [
        "from sklearn.metrics import accuracy_score # Panggil modul accuracy_score dari daftar pustaka sklearn.metrics untuk menghitung prediksi akurasi yang dilakukan oleh model\n",
        "\n",
        "pred = np.argmax(model.predict(X_test), axis=-1) # Untuk melakukan prediksi dengan model\n",
        "accuracy_score(y_test, pred) # Tampilkan skor akurasi"
      ],
      "metadata": {
        "colab": {
          "base_uri": "https://localhost:8080/"
        },
        "id": "csqZ1Jd70RaD",
        "outputId": "7fe67f82-91d2-4699-d7ac-62a082e64bf8"
      },
      "execution_count": 37,
      "outputs": [
        {
          "output_type": "stream",
          "name": "stdout",
          "text": [
            "395/395 [==============================] - 1s 3ms/step\n"
          ]
        },
        {
          "output_type": "execute_result",
          "data": {
            "text/plain": [
              "0.9297703879651623"
            ]
          },
          "metadata": {},
          "execution_count": 37
        }
      ]
    },
    {
      "cell_type": "code",
      "source": [
        "from sklearn.metrics import classification_report # Panggil modul classification_report  dari daftar pustaka sklearn.metrics untuk menghasilkan laporan klasifikasi yang menyediakan sejumlah metrik evaluasi untuk setiap kelas dan metrik secara keseluruhan\n",
        "\n",
        "print(classification_report(y_test, pred)) # Tampilkan laporan klasifikasi model"
      ],
      "metadata": {
        "colab": {
          "base_uri": "https://localhost:8080/"
        },
        "id": "26YhQWBo0Rb-",
        "outputId": "10ac30e7-76d5-4c63-8371-f69eb52a6412"
      },
      "execution_count": 38,
      "outputs": [
        {
          "output_type": "stream",
          "name": "stdout",
          "text": [
            "              precision    recall  f1-score   support\n",
            "\n",
            "           0       0.95      0.70      0.81        60\n",
            "           1       0.97      0.93      0.95       720\n",
            "           2       0.93      0.97      0.95       750\n",
            "           3       0.98      0.87      0.92       450\n",
            "           4       0.90      0.97      0.93       660\n",
            "           5       0.85      0.91      0.88       630\n",
            "           6       0.98      0.83      0.90       150\n",
            "           7       0.93      0.94      0.94       450\n",
            "           8       0.94      0.92      0.93       450\n",
            "           9       0.99      0.98      0.99       480\n",
            "          10       0.99      0.98      0.98       660\n",
            "          11       0.85      0.98      0.91       420\n",
            "          12       0.99      0.96      0.97       690\n",
            "          13       0.99      0.99      0.99       720\n",
            "          14       0.99      0.98      0.99       270\n",
            "          15       0.92      1.00      0.95       210\n",
            "          16       0.99      0.99      0.99       150\n",
            "          17       0.98      0.99      0.99       360\n",
            "          18       0.88      0.74      0.81       390\n",
            "          19       0.97      1.00      0.98        60\n",
            "          20       0.72      0.91      0.80        90\n",
            "          21       0.86      0.60      0.71        90\n",
            "          22       1.00      0.75      0.86       120\n",
            "          23       0.96      0.73      0.83       150\n",
            "          24       0.96      0.90      0.93        90\n",
            "          25       0.93      0.90      0.91       480\n",
            "          26       0.72      0.79      0.75       180\n",
            "          27       0.97      0.50      0.66        60\n",
            "          28       0.94      0.97      0.95       150\n",
            "          29       0.68      0.98      0.80        90\n",
            "          30       0.86      0.70      0.77       150\n",
            "          31       0.87      0.98      0.92       270\n",
            "          32       0.91      0.67      0.77        60\n",
            "          33       0.96      0.98      0.97       210\n",
            "          34       0.92      0.99      0.95       120\n",
            "          35       0.92      0.97      0.94       390\n",
            "          36       0.87      0.98      0.92       120\n",
            "          37       0.89      0.92      0.90        60\n",
            "          38       0.96      0.96      0.96       690\n",
            "          39       0.91      0.88      0.89        90\n",
            "          40       0.85      0.89      0.87        90\n",
            "          41       0.75      0.92      0.83        60\n",
            "          42       0.99      0.93      0.96        90\n",
            "\n",
            "    accuracy                           0.93     12630\n",
            "   macro avg       0.92      0.89      0.90     12630\n",
            "weighted avg       0.93      0.93      0.93     12630\n",
            "\n"
          ]
        }
      ]
    }
  ]
}